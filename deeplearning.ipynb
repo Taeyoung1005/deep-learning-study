{
 "cells": [
  {
   "cell_type": "code",
   "execution_count": 434,
   "metadata": {},
   "outputs": [],
   "source": [
    "import torch"
   ]
  },
  {
   "cell_type": "code",
   "execution_count": 435,
   "metadata": {},
   "outputs": [],
   "source": [
    "float_tensor = torch.FloatTensor([[1,2], [3,4]])"
   ]
  },
  {
   "cell_type": "code",
   "execution_count": 436,
   "metadata": {},
   "outputs": [
    {
     "data": {
      "text/plain": [
       "tensor([[1., 2.],\n",
       "        [3., 4.]])"
      ]
     },
     "execution_count": 436,
     "metadata": {},
     "output_type": "execute_result"
    }
   ],
   "source": [
    "float_tensor"
   ]
  },
  {
   "cell_type": "code",
   "execution_count": 437,
   "metadata": {},
   "outputs": [],
   "source": [
    "int_tensor = torch.LongTensor([[1,2], [3,4]])"
   ]
  },
  {
   "cell_type": "code",
   "execution_count": 438,
   "metadata": {},
   "outputs": [
    {
     "data": {
      "text/plain": [
       "tensor([[1, 2],\n",
       "        [3, 4]])"
      ]
     },
     "execution_count": 438,
     "metadata": {},
     "output_type": "execute_result"
    }
   ],
   "source": [
    "int_tensor"
   ]
  },
  {
   "cell_type": "code",
   "execution_count": 439,
   "metadata": {},
   "outputs": [],
   "source": [
    "float_tensor = torch.FloatTensor(3, 4)"
   ]
  },
  {
   "cell_type": "code",
   "execution_count": 440,
   "metadata": {},
   "outputs": [
    {
     "data": {
      "text/plain": [
       "tensor([[0., 0., 0., 0.],\n",
       "        [0., 0., 0., 0.],\n",
       "        [0., 0., 0., 0.]])"
      ]
     },
     "execution_count": 440,
     "metadata": {},
     "output_type": "execute_result"
    }
   ],
   "source": [
    "float_tensor"
   ]
  },
  {
   "cell_type": "code",
   "execution_count": 441,
   "metadata": {},
   "outputs": [],
   "source": [
    "float_tensor = torch.FloatTensor(3, 4, 2)"
   ]
  },
  {
   "cell_type": "code",
   "execution_count": 442,
   "metadata": {},
   "outputs": [
    {
     "data": {
      "text/plain": [
       "tensor([[[1.0561e-38, 1.0653e-38],\n",
       "         [4.1327e-39, 8.9082e-39],\n",
       "         [9.8265e-39, 9.4592e-39],\n",
       "         [1.0561e-38, 6.7041e-39]],\n",
       "\n",
       "        [[1.1112e-38, 9.5511e-39],\n",
       "         [1.0102e-38, 9.0918e-39],\n",
       "         [1.0469e-38, 8.4490e-39],\n",
       "         [1.0102e-38, 9.2755e-39]],\n",
       "\n",
       "        [[8.9082e-39, 1.0653e-38],\n",
       "         [1.0837e-38, 1.0561e-38],\n",
       "         [9.2755e-39, 9.9184e-39],\n",
       "         [1.0286e-38, 1.6956e-43]]])"
      ]
     },
     "execution_count": 442,
     "metadata": {},
     "output_type": "execute_result"
    }
   ],
   "source": [
    "float_tensor"
   ]
  },
  {
   "cell_type": "code",
   "execution_count": 443,
   "metadata": {},
   "outputs": [],
   "source": [
    "import numpy as np"
   ]
  },
  {
   "cell_type": "code",
   "execution_count": 444,
   "metadata": {},
   "outputs": [],
   "source": [
    "arr = np.array([[1, 2, 3], [4, 5, 6]])"
   ]
  },
  {
   "cell_type": "code",
   "execution_count": 445,
   "metadata": {},
   "outputs": [
    {
     "data": {
      "text/plain": [
       "array([[1, 2, 3],\n",
       "       [4, 5, 6]])"
      ]
     },
     "execution_count": 445,
     "metadata": {},
     "output_type": "execute_result"
    }
   ],
   "source": [
    "arr"
   ]
  },
  {
   "cell_type": "code",
   "execution_count": 446,
   "metadata": {},
   "outputs": [],
   "source": [
    "t = torch.from_numpy(arr)"
   ]
  },
  {
   "cell_type": "code",
   "execution_count": 447,
   "metadata": {},
   "outputs": [
    {
     "data": {
      "text/plain": [
       "tensor([[1, 2, 3],\n",
       "        [4, 5, 6]], dtype=torch.int32)"
      ]
     },
     "execution_count": 447,
     "metadata": {},
     "output_type": "execute_result"
    }
   ],
   "source": [
    "t"
   ]
  },
  {
   "cell_type": "code",
   "execution_count": 448,
   "metadata": {},
   "outputs": [],
   "source": [
    "t = torch.FloatTensor(2, 3)"
   ]
  },
  {
   "cell_type": "code",
   "execution_count": 449,
   "metadata": {},
   "outputs": [
    {
     "data": {
      "text/plain": [
       "tensor([[0.0000e+00, 2.3694e-38, 1.3518e+22],\n",
       "        [5.4661e+22, 8.3451e-10, 2.6405e-06]])"
      ]
     },
     "execution_count": 449,
     "metadata": {},
     "output_type": "execute_result"
    }
   ],
   "source": [
    "t"
   ]
  },
  {
   "cell_type": "code",
   "execution_count": 450,
   "metadata": {},
   "outputs": [],
   "source": [
    "a = t.numpy()"
   ]
  },
  {
   "cell_type": "code",
   "execution_count": 451,
   "metadata": {},
   "outputs": [
    {
     "data": {
      "text/plain": [
       "array([[0.0000000e+00, 2.3694278e-38, 1.3518349e+22],\n",
       "       [5.4661409e+22, 8.3450669e-10, 2.6404857e-06]], dtype=float32)"
      ]
     },
     "execution_count": 451,
     "metadata": {},
     "output_type": "execute_result"
    }
   ],
   "source": [
    "a"
   ]
  },
  {
   "cell_type": "code",
   "execution_count": 452,
   "metadata": {},
   "outputs": [],
   "source": [
    "long_tensor = float_tensor.long()"
   ]
  },
  {
   "cell_type": "code",
   "execution_count": 453,
   "metadata": {},
   "outputs": [
    {
     "data": {
      "text/plain": [
       "tensor([[[1.0561e-38, 1.0653e-38],\n",
       "         [4.1327e-39, 8.9082e-39],\n",
       "         [9.8265e-39, 9.4592e-39],\n",
       "         [1.0561e-38, 6.7041e-39]],\n",
       "\n",
       "        [[1.1112e-38, 9.5511e-39],\n",
       "         [1.0102e-38, 9.0918e-39],\n",
       "         [1.0469e-38, 8.4490e-39],\n",
       "         [1.0102e-38, 9.2755e-39]],\n",
       "\n",
       "        [[8.9082e-39, 1.0653e-38],\n",
       "         [1.0837e-38, 1.0561e-38],\n",
       "         [9.2755e-39, 9.9184e-39],\n",
       "         [1.0286e-38, 1.6956e-43]]])"
      ]
     },
     "execution_count": 453,
     "metadata": {},
     "output_type": "execute_result"
    }
   ],
   "source": [
    "float_tensor"
   ]
  },
  {
   "cell_type": "code",
   "execution_count": 454,
   "metadata": {},
   "outputs": [
    {
     "data": {
      "text/plain": [
       "tensor([[[0, 0],\n",
       "         [0, 0],\n",
       "         [0, 0],\n",
       "         [0, 0]],\n",
       "\n",
       "        [[0, 0],\n",
       "         [0, 0],\n",
       "         [0, 0],\n",
       "         [0, 0]],\n",
       "\n",
       "        [[0, 0],\n",
       "         [0, 0],\n",
       "         [0, 0],\n",
       "         [0, 0]]])"
      ]
     },
     "execution_count": 454,
     "metadata": {},
     "output_type": "execute_result"
    }
   ],
   "source": [
    "long_tensor"
   ]
  },
  {
   "cell_type": "code",
   "execution_count": 455,
   "metadata": {},
   "outputs": [
    {
     "data": {
      "text/plain": [
       "tensor([[[0., 0.],\n",
       "         [0., 0.],\n",
       "         [0., 0.],\n",
       "         [0., 0.]],\n",
       "\n",
       "        [[0., 0.],\n",
       "         [0., 0.],\n",
       "         [0., 0.],\n",
       "         [0., 0.]],\n",
       "\n",
       "        [[0., 0.],\n",
       "         [0., 0.],\n",
       "         [0., 0.],\n",
       "         [0., 0.]]])"
      ]
     },
     "execution_count": 455,
     "metadata": {},
     "output_type": "execute_result"
    }
   ],
   "source": [
    "long_tensor.float()"
   ]
  },
  {
   "cell_type": "code",
   "execution_count": 456,
   "metadata": {},
   "outputs": [],
   "source": [
    "t = torch.LongTensor(3, 4, 2)"
   ]
  },
  {
   "cell_type": "code",
   "execution_count": 457,
   "metadata": {},
   "outputs": [
    {
     "data": {
      "text/plain": [
       "tensor([[[3906422122749375794, 7148169407953515110],\n",
       "         [3689678882965186146, 2464653390116763189],\n",
       "         [8385534776637005868, 7287422581096149113],\n",
       "         [8241417393971357048, 2459013923121950821]],\n",
       "\n",
       "        [[7308604897285731189, 8243121639892466210],\n",
       "         [2459013922786468206, 2481042943426913651],\n",
       "         [7003490175525462074, 3630527356327179319],\n",
       "         [7365134053285639221, 7089566752466756146]],\n",
       "\n",
       "        [[2459013922782602854, 2459029315949715812],\n",
       "         [3256436976256167986, 3544959835371221552],\n",
       "         [4049358595521196602, 8512401619610645299],\n",
       "         [4189032028197581413,   35221975302742560]]])"
      ]
     },
     "execution_count": 457,
     "metadata": {},
     "output_type": "execute_result"
    }
   ],
   "source": [
    "t"
   ]
  },
  {
   "cell_type": "code",
   "execution_count": 458,
   "metadata": {},
   "outputs": [
    {
     "data": {
      "text/plain": [
       "torch.Size([3, 4, 2])"
      ]
     },
     "execution_count": 458,
     "metadata": {},
     "output_type": "execute_result"
    }
   ],
   "source": [
    "t.shape"
   ]
  },
  {
   "cell_type": "code",
   "execution_count": 459,
   "metadata": {},
   "outputs": [
    {
     "data": {
      "text/plain": [
       "torch.Size([3, 4, 2])"
      ]
     },
     "execution_count": 459,
     "metadata": {},
     "output_type": "execute_result"
    }
   ],
   "source": [
    "t.size()"
   ]
  },
  {
   "cell_type": "code",
   "execution_count": 460,
   "metadata": {},
   "outputs": [
    {
     "data": {
      "text/plain": [
       "3"
      ]
     },
     "execution_count": 460,
     "metadata": {},
     "output_type": "execute_result"
    }
   ],
   "source": [
    "t.size(0)"
   ]
  },
  {
   "cell_type": "code",
   "execution_count": 461,
   "metadata": {},
   "outputs": [
    {
     "data": {
      "text/plain": [
       "4"
      ]
     },
     "execution_count": 461,
     "metadata": {},
     "output_type": "execute_result"
    }
   ],
   "source": [
    "t.size(1)"
   ]
  },
  {
   "cell_type": "code",
   "execution_count": 462,
   "metadata": {},
   "outputs": [
    {
     "data": {
      "text/plain": [
       "tensor([[0., 0., 0.],\n",
       "        [0., 0., 0.]])"
      ]
     },
     "execution_count": 462,
     "metadata": {},
     "output_type": "execute_result"
    }
   ],
   "source": [
    "torch.zeros(2, 3)"
   ]
  },
  {
   "cell_type": "code",
   "execution_count": 463,
   "metadata": {},
   "outputs": [
    {
     "data": {
      "text/plain": [
       "tensor([[0.5529, 0.1189, 0.3783],\n",
       "        [0.6060, 0.0840, 0.6231]])"
      ]
     },
     "execution_count": 463,
     "metadata": {},
     "output_type": "execute_result"
    }
   ],
   "source": [
    "torch.rand(2, 3)"
   ]
  },
  {
   "cell_type": "code",
   "execution_count": 464,
   "metadata": {},
   "outputs": [],
   "source": [
    "t = torch.rand(4, 4)"
   ]
  },
  {
   "cell_type": "code",
   "execution_count": 465,
   "metadata": {},
   "outputs": [
    {
     "data": {
      "text/plain": [
       "tensor([[0.6232, 0.7046, 0.7761, 0.4138],\n",
       "        [0.9944, 0.3736, 0.0369, 0.5686],\n",
       "        [0.2823, 0.2865, 0.8598, 0.8461],\n",
       "        [0.4277, 0.3374, 0.8287, 0.0187]])"
      ]
     },
     "execution_count": 465,
     "metadata": {},
     "output_type": "execute_result"
    }
   ],
   "source": [
    "t"
   ]
  },
  {
   "cell_type": "code",
   "execution_count": 466,
   "metadata": {},
   "outputs": [],
   "source": [
    "b = t.view(2, 8)"
   ]
  },
  {
   "cell_type": "code",
   "execution_count": 467,
   "metadata": {},
   "outputs": [
    {
     "data": {
      "text/plain": [
       "tensor([[0.6232, 0.7046, 0.7761, 0.4138, 0.9944, 0.3736, 0.0369, 0.5686],\n",
       "        [0.2823, 0.2865, 0.8598, 0.8461, 0.4277, 0.3374, 0.8287, 0.0187]])"
      ]
     },
     "execution_count": 467,
     "metadata": {},
     "output_type": "execute_result"
    }
   ],
   "source": [
    "b"
   ]
  },
  {
   "cell_type": "code",
   "execution_count": 468,
   "metadata": {},
   "outputs": [
    {
     "data": {
      "text/plain": [
       "True"
      ]
     },
     "execution_count": 468,
     "metadata": {},
     "output_type": "execute_result"
    }
   ],
   "source": [
    "t.storage().data_ptr() == b.storage().data_ptr()"
   ]
  },
  {
   "cell_type": "code",
   "execution_count": 469,
   "metadata": {},
   "outputs": [],
   "source": [
    "b[0][0] = 3.14"
   ]
  },
  {
   "cell_type": "code",
   "execution_count": 470,
   "metadata": {},
   "outputs": [
    {
     "name": "stdout",
     "output_type": "stream",
     "text": [
      "tensor(3.1400)\n",
      "tensor(3.1400)\n"
     ]
    }
   ],
   "source": [
    "print(b[0][0])\n",
    "print(t[0][0])"
   ]
  },
  {
   "cell_type": "code",
   "execution_count": 471,
   "metadata": {},
   "outputs": [],
   "source": [
    "a = torch.arange(4.)"
   ]
  },
  {
   "cell_type": "code",
   "execution_count": 472,
   "metadata": {},
   "outputs": [
    {
     "data": {
      "text/plain": [
       "tensor([0., 1., 2., 3.])"
      ]
     },
     "execution_count": 472,
     "metadata": {},
     "output_type": "execute_result"
    }
   ],
   "source": [
    "a"
   ]
  },
  {
   "cell_type": "code",
   "execution_count": 473,
   "metadata": {},
   "outputs": [
    {
     "data": {
      "text/plain": [
       "tensor([[0., 1.],\n",
       "        [2., 3.]])"
      ]
     },
     "execution_count": 473,
     "metadata": {},
     "output_type": "execute_result"
    }
   ],
   "source": [
    "torch.reshape(a, (2, 2))"
   ]
  },
  {
   "cell_type": "code",
   "execution_count": 474,
   "metadata": {},
   "outputs": [],
   "source": [
    "b = torch.tensor([[0, 1], [2, 3]])"
   ]
  },
  {
   "cell_type": "code",
   "execution_count": 475,
   "metadata": {},
   "outputs": [
    {
     "data": {
      "text/plain": [
       "tensor([[0, 1],\n",
       "        [2, 3]])"
      ]
     },
     "execution_count": 475,
     "metadata": {},
     "output_type": "execute_result"
    }
   ],
   "source": [
    "b"
   ]
  },
  {
   "cell_type": "code",
   "execution_count": 476,
   "metadata": {},
   "outputs": [
    {
     "data": {
      "text/plain": [
       "tensor([0, 1, 2, 3])"
      ]
     },
     "execution_count": 476,
     "metadata": {},
     "output_type": "execute_result"
    }
   ],
   "source": [
    "torch.reshape(b, (-1,))"
   ]
  },
  {
   "cell_type": "code",
   "execution_count": 477,
   "metadata": {},
   "outputs": [],
   "source": [
    "x = torch.zeros(2, 1, 2, 1, 2)"
   ]
  },
  {
   "cell_type": "code",
   "execution_count": 478,
   "metadata": {},
   "outputs": [
    {
     "data": {
      "text/plain": [
       "torch.Size([2, 1, 2, 1, 2])"
      ]
     },
     "execution_count": 478,
     "metadata": {},
     "output_type": "execute_result"
    }
   ],
   "source": [
    "x.size()"
   ]
  },
  {
   "cell_type": "code",
   "execution_count": 479,
   "metadata": {},
   "outputs": [],
   "source": [
    "y = torch.squeeze(x)"
   ]
  },
  {
   "cell_type": "code",
   "execution_count": 480,
   "metadata": {},
   "outputs": [
    {
     "data": {
      "text/plain": [
       "torch.Size([2, 2, 2])"
      ]
     },
     "execution_count": 480,
     "metadata": {},
     "output_type": "execute_result"
    }
   ],
   "source": [
    "y.size()"
   ]
  },
  {
   "cell_type": "code",
   "execution_count": 481,
   "metadata": {},
   "outputs": [
    {
     "data": {
      "text/plain": [
       "True"
      ]
     },
     "execution_count": 481,
     "metadata": {},
     "output_type": "execute_result"
    }
   ],
   "source": [
    "x.storage().data_ptr() == y.storage().data_ptr()"
   ]
  },
  {
   "cell_type": "code",
   "execution_count": 482,
   "metadata": {},
   "outputs": [
    {
     "data": {
      "text/plain": [
       "tensor([[[[[0., 0.]],\n",
       "\n",
       "          [[0., 0.]]]],\n",
       "\n",
       "\n",
       "\n",
       "        [[[[0., 0.]],\n",
       "\n",
       "          [[0., 0.]]]]])"
      ]
     },
     "execution_count": 482,
     "metadata": {},
     "output_type": "execute_result"
    }
   ],
   "source": [
    "x"
   ]
  },
  {
   "cell_type": "code",
   "execution_count": 483,
   "metadata": {},
   "outputs": [],
   "source": [
    "y = torch.squeeze(x, 0)"
   ]
  },
  {
   "cell_type": "code",
   "execution_count": 484,
   "metadata": {},
   "outputs": [
    {
     "data": {
      "text/plain": [
       "torch.Size([2, 1, 2, 1, 2])"
      ]
     },
     "execution_count": 484,
     "metadata": {},
     "output_type": "execute_result"
    }
   ],
   "source": [
    "y.size()"
   ]
  },
  {
   "cell_type": "code",
   "execution_count": 485,
   "metadata": {},
   "outputs": [
    {
     "data": {
      "text/plain": [
       "tensor([[[[[0., 0.]],\n",
       "\n",
       "          [[0., 0.]]]],\n",
       "\n",
       "\n",
       "\n",
       "        [[[[0., 0.]],\n",
       "\n",
       "          [[0., 0.]]]]])"
      ]
     },
     "execution_count": 485,
     "metadata": {},
     "output_type": "execute_result"
    }
   ],
   "source": [
    "y"
   ]
  },
  {
   "cell_type": "code",
   "execution_count": 486,
   "metadata": {},
   "outputs": [],
   "source": [
    "y = torch.squeeze(x, 1)"
   ]
  },
  {
   "cell_type": "code",
   "execution_count": 487,
   "metadata": {},
   "outputs": [
    {
     "data": {
      "text/plain": [
       "tensor([[[[0., 0.]],\n",
       "\n",
       "         [[0., 0.]]],\n",
       "\n",
       "\n",
       "        [[[0., 0.]],\n",
       "\n",
       "         [[0., 0.]]]])"
      ]
     },
     "execution_count": 487,
     "metadata": {},
     "output_type": "execute_result"
    }
   ],
   "source": [
    "y"
   ]
  },
  {
   "cell_type": "code",
   "execution_count": 488,
   "metadata": {},
   "outputs": [],
   "source": [
    "#183쪽 unsqeeze()부터"
   ]
  },
  {
   "cell_type": "code",
   "execution_count": 489,
   "metadata": {},
   "outputs": [],
   "source": [
    "x = torch.tensor([1, 2, 3, 4])"
   ]
  },
  {
   "cell_type": "code",
   "execution_count": 490,
   "metadata": {},
   "outputs": [
    {
     "data": {
      "text/plain": [
       "tensor([1, 2, 3, 4])"
      ]
     },
     "execution_count": 490,
     "metadata": {},
     "output_type": "execute_result"
    }
   ],
   "source": [
    "x"
   ]
  },
  {
   "cell_type": "code",
   "execution_count": 491,
   "metadata": {},
   "outputs": [
    {
     "data": {
      "text/plain": [
       "torch.Size([4])"
      ]
     },
     "execution_count": 491,
     "metadata": {},
     "output_type": "execute_result"
    }
   ],
   "source": [
    "x.shape"
   ]
  },
  {
   "cell_type": "code",
   "execution_count": 492,
   "metadata": {},
   "outputs": [],
   "source": [
    "y = torch.unsqueeze(x, 0)"
   ]
  },
  {
   "cell_type": "code",
   "execution_count": 493,
   "metadata": {},
   "outputs": [
    {
     "data": {
      "text/plain": [
       "tensor([[1, 2, 3, 4]])"
      ]
     },
     "execution_count": 493,
     "metadata": {},
     "output_type": "execute_result"
    }
   ],
   "source": [
    "y"
   ]
  },
  {
   "cell_type": "code",
   "execution_count": 494,
   "metadata": {},
   "outputs": [
    {
     "data": {
      "text/plain": [
       "torch.Size([1, 4])"
      ]
     },
     "execution_count": 494,
     "metadata": {},
     "output_type": "execute_result"
    }
   ],
   "source": [
    "y.shape"
   ]
  },
  {
   "cell_type": "code",
   "execution_count": 495,
   "metadata": {},
   "outputs": [],
   "source": [
    "z = torch.unsqueeze(x, 1)"
   ]
  },
  {
   "cell_type": "code",
   "execution_count": 496,
   "metadata": {},
   "outputs": [
    {
     "data": {
      "text/plain": [
       "tensor([[1],\n",
       "        [2],\n",
       "        [3],\n",
       "        [4]])"
      ]
     },
     "execution_count": 496,
     "metadata": {},
     "output_type": "execute_result"
    }
   ],
   "source": [
    "z"
   ]
  },
  {
   "cell_type": "code",
   "execution_count": 497,
   "metadata": {},
   "outputs": [
    {
     "data": {
      "text/plain": [
       "torch.Size([4, 1])"
      ]
     },
     "execution_count": 497,
     "metadata": {},
     "output_type": "execute_result"
    }
   ],
   "source": [
    "z.shape"
   ]
  },
  {
   "cell_type": "code",
   "execution_count": 498,
   "metadata": {},
   "outputs": [],
   "source": [
    "x = torch.randn(2, 3)"
   ]
  },
  {
   "cell_type": "code",
   "execution_count": 499,
   "metadata": {},
   "outputs": [
    {
     "data": {
      "text/plain": [
       "tensor([[-1.1030, -1.4444, -0.1549],\n",
       "        [ 0.8626, -0.6892,  0.9815]])"
      ]
     },
     "execution_count": 499,
     "metadata": {},
     "output_type": "execute_result"
    }
   ],
   "source": [
    "x"
   ]
  },
  {
   "cell_type": "code",
   "execution_count": 500,
   "metadata": {},
   "outputs": [
    {
     "data": {
      "text/plain": [
       "tensor([[-1.1030,  0.8626],\n",
       "        [-1.4444, -0.6892],\n",
       "        [-0.1549,  0.9815]])"
      ]
     },
     "execution_count": 500,
     "metadata": {},
     "output_type": "execute_result"
    }
   ],
   "source": [
    "torch.transpose(x, 0, 1)"
   ]
  },
  {
   "cell_type": "code",
   "execution_count": 501,
   "metadata": {},
   "outputs": [],
   "source": [
    "x = torch.randn(3, 4)"
   ]
  },
  {
   "cell_type": "code",
   "execution_count": 502,
   "metadata": {},
   "outputs": [
    {
     "data": {
      "text/plain": [
       "tensor([[ 0.8031,  0.5153, -0.0644,  1.4816],\n",
       "        [-1.0692, -1.3672, -1.1479,  1.2329],\n",
       "        [-1.0785,  0.8255,  0.2142, -0.9302]])"
      ]
     },
     "execution_count": 502,
     "metadata": {},
     "output_type": "execute_result"
    }
   ],
   "source": [
    "x"
   ]
  },
  {
   "cell_type": "code",
   "execution_count": 503,
   "metadata": {},
   "outputs": [],
   "source": [
    "indices = torch.tensor([0, 2])"
   ]
  },
  {
   "cell_type": "code",
   "execution_count": 504,
   "metadata": {},
   "outputs": [
    {
     "data": {
      "text/plain": [
       "tensor([[ 0.8031,  0.5153, -0.0644,  1.4816],\n",
       "        [-1.0785,  0.8255,  0.2142, -0.9302]])"
      ]
     },
     "execution_count": 504,
     "metadata": {},
     "output_type": "execute_result"
    }
   ],
   "source": [
    "torch.index_select(x, 0, indices)"
   ]
  },
  {
   "cell_type": "code",
   "execution_count": 505,
   "metadata": {},
   "outputs": [
    {
     "data": {
      "text/plain": [
       "tensor([[ 0.8031, -0.0644],\n",
       "        [-1.0692, -1.1479],\n",
       "        [-1.0785,  0.2142]])"
      ]
     },
     "execution_count": 505,
     "metadata": {},
     "output_type": "execute_result"
    }
   ],
   "source": [
    "torch.index_select(x, 1, indices)"
   ]
  },
  {
   "cell_type": "code",
   "execution_count": 506,
   "metadata": {},
   "outputs": [],
   "source": [
    "a = torch.arange(10).reshape(5, 2)"
   ]
  },
  {
   "cell_type": "code",
   "execution_count": 507,
   "metadata": {},
   "outputs": [
    {
     "data": {
      "text/plain": [
       "tensor([[0, 1],\n",
       "        [2, 3],\n",
       "        [4, 5],\n",
       "        [6, 7],\n",
       "        [8, 9]])"
      ]
     },
     "execution_count": 507,
     "metadata": {},
     "output_type": "execute_result"
    }
   ],
   "source": [
    "a"
   ]
  },
  {
   "cell_type": "code",
   "execution_count": 508,
   "metadata": {},
   "outputs": [
    {
     "data": {
      "text/plain": [
       "(tensor([[0, 1],\n",
       "         [2, 3]]),\n",
       " tensor([[4, 5],\n",
       "         [6, 7]]),\n",
       " tensor([[8, 9]]))"
      ]
     },
     "execution_count": 508,
     "metadata": {},
     "output_type": "execute_result"
    }
   ],
   "source": [
    "torch.split(a, 2)"
   ]
  },
  {
   "cell_type": "code",
   "execution_count": 509,
   "metadata": {},
   "outputs": [],
   "source": [
    "x = torch.randn(2, 3)"
   ]
  },
  {
   "cell_type": "code",
   "execution_count": 510,
   "metadata": {},
   "outputs": [
    {
     "data": {
      "text/plain": [
       "tensor([[-0.6908, -0.9401,  1.0345],\n",
       "        [ 0.7677,  1.6935,  1.6488]])"
      ]
     },
     "execution_count": 510,
     "metadata": {},
     "output_type": "execute_result"
    }
   ],
   "source": [
    "x"
   ]
  },
  {
   "cell_type": "code",
   "execution_count": 511,
   "metadata": {},
   "outputs": [
    {
     "data": {
      "text/plain": [
       "tensor([[-0.6908, -0.9401,  1.0345],\n",
       "        [ 0.7677,  1.6935,  1.6488],\n",
       "        [-0.6908, -0.9401,  1.0345],\n",
       "        [ 0.7677,  1.6935,  1.6488],\n",
       "        [-0.6908, -0.9401,  1.0345],\n",
       "        [ 0.7677,  1.6935,  1.6488]])"
      ]
     },
     "execution_count": 511,
     "metadata": {},
     "output_type": "execute_result"
    }
   ],
   "source": [
    "torch.cat((x, x, x), 0)"
   ]
  },
  {
   "cell_type": "code",
   "execution_count": 512,
   "metadata": {},
   "outputs": [
    {
     "data": {
      "text/plain": [
       "tensor([[-0.6908, -0.9401,  1.0345, -0.6908, -0.9401,  1.0345, -0.6908, -0.9401,\n",
       "          1.0345],\n",
       "        [ 0.7677,  1.6935,  1.6488,  0.7677,  1.6935,  1.6488,  0.7677,  1.6935,\n",
       "          1.6488]])"
      ]
     },
     "execution_count": 512,
     "metadata": {},
     "output_type": "execute_result"
    }
   ],
   "source": [
    "torch.cat((x, x, x), 1)"
   ]
  },
  {
   "cell_type": "code",
   "execution_count": 513,
   "metadata": {},
   "outputs": [],
   "source": [
    "x = torch.FloatTensor([[1, 2, 3], [4, 5, 6], [7, 8, 9]])\n",
    "y = torch.FloatTensor([[10, 11, 12], [13, 14, 15], [16, 17, 18]])"
   ]
  },
  {
   "cell_type": "code",
   "execution_count": 514,
   "metadata": {},
   "outputs": [
    {
     "name": "stdout",
     "output_type": "stream",
     "text": [
      "torch.Size([3, 3]) torch.Size([3, 3])\n"
     ]
    }
   ],
   "source": [
    "print(x.size(), y.size())"
   ]
  },
  {
   "cell_type": "code",
   "execution_count": null,
   "metadata": {},
   "outputs": [],
   "source": []
  },
  {
   "cell_type": "code",
   "execution_count": 515,
   "metadata": {},
   "outputs": [],
   "source": [
    "z = torch.stack([x, y])"
   ]
  },
  {
   "cell_type": "code",
   "execution_count": 516,
   "metadata": {},
   "outputs": [
    {
     "data": {
      "text/plain": [
       "tensor([[[ 1.,  2.,  3.],\n",
       "         [ 4.,  5.,  6.],\n",
       "         [ 7.,  8.,  9.]],\n",
       "\n",
       "        [[10., 11., 12.],\n",
       "         [13., 14., 15.],\n",
       "         [16., 17., 18.]]])"
      ]
     },
     "execution_count": 516,
     "metadata": {},
     "output_type": "execute_result"
    }
   ],
   "source": [
    "z"
   ]
  },
  {
   "cell_type": "code",
   "execution_count": 517,
   "metadata": {},
   "outputs": [
    {
     "data": {
      "text/plain": [
       "torch.Size([2, 3, 3])"
      ]
     },
     "execution_count": 517,
     "metadata": {},
     "output_type": "execute_result"
    }
   ],
   "source": [
    "z.size()"
   ]
  },
  {
   "cell_type": "code",
   "execution_count": 518,
   "metadata": {},
   "outputs": [],
   "source": [
    "#260쪽부터 기울기 소실과 활성 함수"
   ]
  },
  {
   "attachments": {},
   "cell_type": "markdown",
   "metadata": {},
   "source": [
    "learing rate : 학습률\n",
    "DNN : 심층신경망(linear layer 여러개 쌓고 활성함수를 이용하여 구성)\n",
    "Chain Rule : 연쇄법칙 -> 역전파 학습"
   ]
  },
  {
   "attachments": {},
   "cell_type": "markdown",
   "metadata": {},
   "source": [
    "#딥러닝 회귀 실습"
   ]
  },
  {
   "cell_type": "code",
   "execution_count": 551,
   "metadata": {},
   "outputs": [
    {
     "name": "stderr",
     "output_type": "stream",
     "text": [
      "c:\\Users\\mu070\\anaconda3\\lib\\site-packages\\sklearn\\utils\\deprecation.py:87: FutureWarning: Function load_boston is deprecated; `load_boston` is deprecated in 1.0 and will be removed in 1.2.\n",
      "\n",
      "    The Boston housing prices dataset has an ethical problem. You can refer to\n",
      "    the documentation of this function for further details.\n",
      "\n",
      "    The scikit-learn maintainers therefore strongly discourage the use of this\n",
      "    dataset unless the purpose of the code is to study and educate about\n",
      "    ethical issues in data science and machine learning.\n",
      "\n",
      "    In this special case, you can fetch the dataset from the original\n",
      "    source::\n",
      "\n",
      "        import pandas as pd\n",
      "        import numpy as np\n",
      "\n",
      "\n",
      "        data_url = \"http://lib.stat.cmu.edu/datasets/boston\"\n",
      "        raw_df = pd.read_csv(data_url, sep=\"\\s+\", skiprows=22, header=None)\n",
      "        data = np.hstack([raw_df.values[::2, :], raw_df.values[1::2, :2]])\n",
      "        target = raw_df.values[1::2, 2]\n",
      "\n",
      "    Alternative datasets include the California housing dataset (i.e.\n",
      "    :func:`~sklearn.datasets.fetch_california_housing`) and the Ames housing\n",
      "    dataset. You can load the datasets as follows::\n",
      "\n",
      "        from sklearn.datasets import fetch_california_housing\n",
      "        housing = fetch_california_housing()\n",
      "\n",
      "    for the California housing dataset and::\n",
      "\n",
      "        from sklearn.datasets import fetch_openml\n",
      "        housing = fetch_openml(name=\"house_prices\", as_frame=True)\n",
      "\n",
      "    for the Ames housing dataset.\n",
      "    \n",
      "  warnings.warn(msg, category=FutureWarning)\n"
     ]
    }
   ],
   "source": [
    "from sklearn.datasets import load_boston\n",
    "boston_house = load_boston()"
   ]
  },
  {
   "cell_type": "code",
   "execution_count": 552,
   "metadata": {},
   "outputs": [
    {
     "data": {
      "text/html": [
       "<div>\n",
       "<style scoped>\n",
       "    .dataframe tbody tr th:only-of-type {\n",
       "        vertical-align: middle;\n",
       "    }\n",
       "\n",
       "    .dataframe tbody tr th {\n",
       "        vertical-align: top;\n",
       "    }\n",
       "\n",
       "    .dataframe thead th {\n",
       "        text-align: right;\n",
       "    }\n",
       "</style>\n",
       "<table border=\"1\" class=\"dataframe\">\n",
       "  <thead>\n",
       "    <tr style=\"text-align: right;\">\n",
       "      <th></th>\n",
       "      <th>CRIM</th>\n",
       "      <th>ZN</th>\n",
       "      <th>INDUS</th>\n",
       "      <th>CHAS</th>\n",
       "      <th>NOX</th>\n",
       "      <th>RM</th>\n",
       "      <th>AGE</th>\n",
       "      <th>DIS</th>\n",
       "      <th>RAD</th>\n",
       "      <th>TAX</th>\n",
       "      <th>PTRATIO</th>\n",
       "      <th>B</th>\n",
       "      <th>LSTAT</th>\n",
       "      <th>TARGET</th>\n",
       "    </tr>\n",
       "  </thead>\n",
       "  <tbody>\n",
       "    <tr>\n",
       "      <th>0</th>\n",
       "      <td>-0.419782</td>\n",
       "      <td>0.284830</td>\n",
       "      <td>-1.287909</td>\n",
       "      <td>-0.272599</td>\n",
       "      <td>-0.144217</td>\n",
       "      <td>0.413672</td>\n",
       "      <td>-0.120013</td>\n",
       "      <td>0.140214</td>\n",
       "      <td>-0.982843</td>\n",
       "      <td>-0.666608</td>\n",
       "      <td>-1.459000</td>\n",
       "      <td>0.441052</td>\n",
       "      <td>-1.075562</td>\n",
       "      <td>24.0</td>\n",
       "    </tr>\n",
       "    <tr>\n",
       "      <th>1</th>\n",
       "      <td>-0.417339</td>\n",
       "      <td>-0.487722</td>\n",
       "      <td>-0.593381</td>\n",
       "      <td>-0.272599</td>\n",
       "      <td>-0.740262</td>\n",
       "      <td>0.194274</td>\n",
       "      <td>0.367166</td>\n",
       "      <td>0.557160</td>\n",
       "      <td>-0.867883</td>\n",
       "      <td>-0.987329</td>\n",
       "      <td>-0.303094</td>\n",
       "      <td>0.441052</td>\n",
       "      <td>-0.492439</td>\n",
       "      <td>21.6</td>\n",
       "    </tr>\n",
       "    <tr>\n",
       "      <th>2</th>\n",
       "      <td>-0.417342</td>\n",
       "      <td>-0.487722</td>\n",
       "      <td>-0.593381</td>\n",
       "      <td>-0.272599</td>\n",
       "      <td>-0.740262</td>\n",
       "      <td>1.282714</td>\n",
       "      <td>-0.265812</td>\n",
       "      <td>0.557160</td>\n",
       "      <td>-0.867883</td>\n",
       "      <td>-0.987329</td>\n",
       "      <td>-0.303094</td>\n",
       "      <td>0.396427</td>\n",
       "      <td>-1.208727</td>\n",
       "      <td>34.7</td>\n",
       "    </tr>\n",
       "    <tr>\n",
       "      <th>3</th>\n",
       "      <td>-0.416750</td>\n",
       "      <td>-0.487722</td>\n",
       "      <td>-1.306878</td>\n",
       "      <td>-0.272599</td>\n",
       "      <td>-0.835284</td>\n",
       "      <td>1.016303</td>\n",
       "      <td>-0.809889</td>\n",
       "      <td>1.077737</td>\n",
       "      <td>-0.752922</td>\n",
       "      <td>-1.106115</td>\n",
       "      <td>0.113032</td>\n",
       "      <td>0.416163</td>\n",
       "      <td>-1.361517</td>\n",
       "      <td>33.4</td>\n",
       "    </tr>\n",
       "    <tr>\n",
       "      <th>4</th>\n",
       "      <td>-0.412482</td>\n",
       "      <td>-0.487722</td>\n",
       "      <td>-1.306878</td>\n",
       "      <td>-0.272599</td>\n",
       "      <td>-0.835284</td>\n",
       "      <td>1.228577</td>\n",
       "      <td>-0.511180</td>\n",
       "      <td>1.077737</td>\n",
       "      <td>-0.752922</td>\n",
       "      <td>-1.106115</td>\n",
       "      <td>0.113032</td>\n",
       "      <td>0.441052</td>\n",
       "      <td>-1.026501</td>\n",
       "      <td>36.2</td>\n",
       "    </tr>\n",
       "    <tr>\n",
       "      <th>...</th>\n",
       "      <td>...</td>\n",
       "      <td>...</td>\n",
       "      <td>...</td>\n",
       "      <td>...</td>\n",
       "      <td>...</td>\n",
       "      <td>...</td>\n",
       "      <td>...</td>\n",
       "      <td>...</td>\n",
       "      <td>...</td>\n",
       "      <td>...</td>\n",
       "      <td>...</td>\n",
       "      <td>...</td>\n",
       "      <td>...</td>\n",
       "      <td>...</td>\n",
       "    </tr>\n",
       "    <tr>\n",
       "      <th>501</th>\n",
       "      <td>-0.413229</td>\n",
       "      <td>-0.487722</td>\n",
       "      <td>0.115738</td>\n",
       "      <td>-0.272599</td>\n",
       "      <td>0.158124</td>\n",
       "      <td>0.439316</td>\n",
       "      <td>0.018673</td>\n",
       "      <td>-0.625796</td>\n",
       "      <td>-0.982843</td>\n",
       "      <td>-0.803212</td>\n",
       "      <td>1.176466</td>\n",
       "      <td>0.387217</td>\n",
       "      <td>-0.418147</td>\n",
       "      <td>22.4</td>\n",
       "    </tr>\n",
       "    <tr>\n",
       "      <th>502</th>\n",
       "      <td>-0.415249</td>\n",
       "      <td>-0.487722</td>\n",
       "      <td>0.115738</td>\n",
       "      <td>-0.272599</td>\n",
       "      <td>0.158124</td>\n",
       "      <td>-0.234548</td>\n",
       "      <td>0.288933</td>\n",
       "      <td>-0.716639</td>\n",
       "      <td>-0.982843</td>\n",
       "      <td>-0.803212</td>\n",
       "      <td>1.176466</td>\n",
       "      <td>0.441052</td>\n",
       "      <td>-0.500850</td>\n",
       "      <td>20.6</td>\n",
       "    </tr>\n",
       "    <tr>\n",
       "      <th>503</th>\n",
       "      <td>-0.413447</td>\n",
       "      <td>-0.487722</td>\n",
       "      <td>0.115738</td>\n",
       "      <td>-0.272599</td>\n",
       "      <td>0.158124</td>\n",
       "      <td>0.984960</td>\n",
       "      <td>0.797449</td>\n",
       "      <td>-0.773684</td>\n",
       "      <td>-0.982843</td>\n",
       "      <td>-0.803212</td>\n",
       "      <td>1.176466</td>\n",
       "      <td>0.441052</td>\n",
       "      <td>-0.983048</td>\n",
       "      <td>23.9</td>\n",
       "    </tr>\n",
       "    <tr>\n",
       "      <th>504</th>\n",
       "      <td>-0.407764</td>\n",
       "      <td>-0.487722</td>\n",
       "      <td>0.115738</td>\n",
       "      <td>-0.272599</td>\n",
       "      <td>0.158124</td>\n",
       "      <td>0.725672</td>\n",
       "      <td>0.736996</td>\n",
       "      <td>-0.668437</td>\n",
       "      <td>-0.982843</td>\n",
       "      <td>-0.803212</td>\n",
       "      <td>1.176466</td>\n",
       "      <td>0.403225</td>\n",
       "      <td>-0.865302</td>\n",
       "      <td>22.0</td>\n",
       "    </tr>\n",
       "    <tr>\n",
       "      <th>505</th>\n",
       "      <td>-0.415000</td>\n",
       "      <td>-0.487722</td>\n",
       "      <td>0.115738</td>\n",
       "      <td>-0.272599</td>\n",
       "      <td>0.158124</td>\n",
       "      <td>-0.362767</td>\n",
       "      <td>0.434732</td>\n",
       "      <td>-0.613246</td>\n",
       "      <td>-0.982843</td>\n",
       "      <td>-0.803212</td>\n",
       "      <td>1.176466</td>\n",
       "      <td>0.441052</td>\n",
       "      <td>-0.669058</td>\n",
       "      <td>11.9</td>\n",
       "    </tr>\n",
       "  </tbody>\n",
       "</table>\n",
       "<p>506 rows × 14 columns</p>\n",
       "</div>"
      ],
      "text/plain": [
       "         CRIM        ZN     INDUS      CHAS       NOX        RM       AGE  \\\n",
       "0   -0.419782  0.284830 -1.287909 -0.272599 -0.144217  0.413672 -0.120013   \n",
       "1   -0.417339 -0.487722 -0.593381 -0.272599 -0.740262  0.194274  0.367166   \n",
       "2   -0.417342 -0.487722 -0.593381 -0.272599 -0.740262  1.282714 -0.265812   \n",
       "3   -0.416750 -0.487722 -1.306878 -0.272599 -0.835284  1.016303 -0.809889   \n",
       "4   -0.412482 -0.487722 -1.306878 -0.272599 -0.835284  1.228577 -0.511180   \n",
       "..        ...       ...       ...       ...       ...       ...       ...   \n",
       "501 -0.413229 -0.487722  0.115738 -0.272599  0.158124  0.439316  0.018673   \n",
       "502 -0.415249 -0.487722  0.115738 -0.272599  0.158124 -0.234548  0.288933   \n",
       "503 -0.413447 -0.487722  0.115738 -0.272599  0.158124  0.984960  0.797449   \n",
       "504 -0.407764 -0.487722  0.115738 -0.272599  0.158124  0.725672  0.736996   \n",
       "505 -0.415000 -0.487722  0.115738 -0.272599  0.158124 -0.362767  0.434732   \n",
       "\n",
       "          DIS       RAD       TAX   PTRATIO         B     LSTAT  TARGET  \n",
       "0    0.140214 -0.982843 -0.666608 -1.459000  0.441052 -1.075562    24.0  \n",
       "1    0.557160 -0.867883 -0.987329 -0.303094  0.441052 -0.492439    21.6  \n",
       "2    0.557160 -0.867883 -0.987329 -0.303094  0.396427 -1.208727    34.7  \n",
       "3    1.077737 -0.752922 -1.106115  0.113032  0.416163 -1.361517    33.4  \n",
       "4    1.077737 -0.752922 -1.106115  0.113032  0.441052 -1.026501    36.2  \n",
       "..        ...       ...       ...       ...       ...       ...     ...  \n",
       "501 -0.625796 -0.982843 -0.803212  1.176466  0.387217 -0.418147    22.4  \n",
       "502 -0.716639 -0.982843 -0.803212  1.176466  0.441052 -0.500850    20.6  \n",
       "503 -0.773684 -0.982843 -0.803212  1.176466  0.441052 -0.983048    23.9  \n",
       "504 -0.668437 -0.982843 -0.803212  1.176466  0.403225 -0.865302    22.0  \n",
       "505 -0.613246 -0.982843 -0.803212  1.176466  0.441052 -0.669058    11.9  \n",
       "\n",
       "[506 rows x 14 columns]"
      ]
     },
     "execution_count": 552,
     "metadata": {},
     "output_type": "execute_result"
    }
   ],
   "source": [
    "import pandas as pd\n",
    "from sklearn.preprocessing import StandardScaler\n",
    "\n",
    "df = pd.DataFrame(boston_house.data, columns=boston_house.feature_names)\n",
    "\n",
    "# 데이터 정규화\n",
    "scaler = StandardScaler()\n",
    "scaler.fit(df.values[:,:])\n",
    "df.values[:,:] = scaler.transform(df.values[:,:])\n",
    "\n",
    "# 타겟 변수를 마지막에 추가하기\n",
    "df['TARGET'] = boston_house.target\n",
    "df"
   ]
  },
  {
   "cell_type": "code",
   "execution_count": 553,
   "metadata": {},
   "outputs": [
    {
     "name": "stdout",
     "output_type": "stream",
     "text": [
      "torch.Size([506, 13]) torch.Size([506, 1])\n",
      "Train: 303, Valid: 101, Test: 102 samples.\n",
      "torch.Size([303, 13]) torch.Size([303, 1])\n",
      "torch.Size([101, 13]) torch.Size([101, 1])\n",
      "torch.Size([102, 13]) torch.Size([102, 1])\n"
     ]
    }
   ],
   "source": [
    "import torch\n",
    "\n",
    "data_numpy = torch.from_numpy(df.values).float()\n",
    "\n",
    "x = data_numpy[:, :-1] # 독립 변수\n",
    "y = data_numpy[:, -1:] # 타겟 변수\n",
    "print(x.shape, y.shape)\n",
    "\n",
    "# Train / Validation / Test 분할 비율\n",
    "split_ratio = [0.6, 0.2, 0.2]\n",
    "\n",
    "# 분할 데이터별 필요한 데이터 수 설정\n",
    "train_cnt = int(data_numpy.size(0) * split_ratio[0])\n",
    "valid_cnt = int(data_numpy.size(0) * split_ratio[1])\n",
    "test_cnt = data_numpy.size(0) - train_cnt - valid_cnt\n",
    "cnts = [train_cnt, valid_cnt, test_cnt]\n",
    "\n",
    "# 분할 결과를 확인하기 위해 화면에 출력\n",
    "print(\"Train: {}, Valid: {}, Test: {} samples.\".format(\n",
    "                                train_cnt, \n",
    "                                valid_cnt, \n",
    "                                test_cnt)\n",
    "     )\n",
    "\n",
    "### 랜덤하게 데이터를 추출하여 Train / Validation / Test 구성 ###\n",
    "\n",
    "# 데이터 갯수 만큼 랜덤하게 인덱스 번호 생성\n",
    "indices = torch.randperm(data_numpy.size(0))\n",
    "\n",
    "# 독립변수(x)와 타겟변수(y)로부터 랜덤하게 생성한 인덱스(indices) 순서대로 추출\n",
    "x = torch.index_select(x, dim=0, index=indices)\n",
    "y = torch.index_select(y, dim=0, index=indices)\n",
    "\n",
    "# Train / Validation / Test 분할 비율에 맞게 데이터 분할\n",
    "x = x.split(cnts, dim=0)\n",
    "y = y.split(cnts, dim=0)\n",
    "\n",
    "# 분할된 데이터셋 크기 확인\n",
    "for x_i, y_i in zip(x, y):\n",
    "    print(x_i.size(), y_i.size())"
   ]
  },
  {
   "attachments": {},
   "cell_type": "markdown",
   "metadata": {},
   "source": [
    "#학습 모델 구축"
   ]
  },
  {
   "cell_type": "code",
   "execution_count": 554,
   "metadata": {},
   "outputs": [],
   "source": [
    "import torch.nn as nn\n",
    "import torch.nn.functional as F\n",
    "import torch.optim as optim\n",
    "\n",
    "# 딥러닝 모델 생성 1. Pytorch의 nn.Module 활용하는 방법\n",
    "class MyModel(nn.Module):\n",
    "    \n",
    "    def __init__(self, input_dim, output_dim):\n",
    "        self.input_dim = input_dim # 입력 차원\n",
    "        self.output_dim = output_dim # 출력 차원\n",
    "        \n",
    "        super().__init__() # 부모 클래스 __init__ 보호\n",
    "        \n",
    "        # 은닉층(Hidden Layer) 설계\n",
    "        self.linear1 = nn.Linear(input_dim, 32)\n",
    "        self.linear2 = nn.Linear(32, 16)\n",
    "        self.linear3 = nn.Linear(16, 8)\n",
    "        self.linear4 = nn.Linear(8, 4)\n",
    "        self.linear5 = nn.Linear(4, output_dim)\n",
    "        self.act = nn.ReLU()\n",
    "        \n",
    "    def forward(self, x):\n",
    "        \n",
    "        # 객체 호출 시 입력 텐서 크기: |x| = (batch_size, input_dim)\n",
    "        h = self.act(self.linear1(x)) # |h| = (batch_size, 32)\n",
    "        h = self.act(self.linear2(h))\n",
    "        h = self.act(self.linear3(h))\n",
    "        h = self.act(self.linear4(h))\n",
    "        y = self.linear5(h)\n",
    "        # 출력텐서 크기: |y| = (batch_size, output_dim)\n",
    "        \n",
    "        # 구축된 신경망 반환(return)\n",
    "        return y"
   ]
  },
  {
   "cell_type": "code",
   "execution_count": 556,
   "metadata": {},
   "outputs": [],
   "source": [
    "# 학습 모델 저장을 위한 deepcopy 라이브러리 임포트\n",
    "from copy import deepcopy\n",
    "\n",
    "def train(\n",
    "    model, # 신경망 모델\n",
    "    x, # 학습데이트\n",
    "    y, # 예측값(정답)\n",
    "    loss_func, # 손실함수\n",
    "    lr=1e-4, # 학습률\n",
    "    n_epochs=100, # Epoch 수행 횟수\n",
    "    batch_size=32, # 미니배치 크기\n",
    "    print_interval=1000, # 학습결과를 출력하는 간격\n",
    "):\n",
    "\n",
    "    lowest_loss = np.inf\n",
    "    best_model = None\n",
    "    optimizer = optim.SGD(model.parameters(), lr=lr)\n",
    "    \n",
    "    # GPU 사용이 가능할 경우 사용, 불가능할 경우 CPU 사용\n",
    "    device = torch.device('cpu')\n",
    "    if torch.cuda.is_available():\n",
    "        device = torch.device('cuda')\n",
    "    \n",
    "    # 학습 시작 전 모든 값을 지정된 Device로 이동\n",
    "    model = model.to(device)\n",
    "    x = [x_i.to(device) for x_i in x]\n",
    "    y = [y_i.to(device) for y_i in y]\n",
    "    \n",
    "    ### 학습 및 검증 시작 ###\n",
    "    # 학습 진행상태(Loss)를 시각화하기 위한 List todtjd\n",
    "    train_history = []\n",
    "    valid_history = []\n",
    "    \n",
    "    ### Epoch 시작 ###\n",
    "    for epoch_index in range(n_epochs):\n",
    "        \n",
    "        '''\n",
    "        우리 예제의 경우 텐서 형태\n",
    "        x[0]: x_1, y_1 -> torch.Size([303, 13]) torch.Size([303, 1])\n",
    "        x[1]: x_2, y_2 -> torch.Size([101, 13]) torch.Size([101, 1])\n",
    "        x[2]: x_3, y_3 -> torch.Size([102, 13]) torch.Size([102, 1])\n",
    "        '''\n",
    "        \n",
    "        train_x, train_y = x[0], y[0]\n",
    "        valid_x, valid_y = x[1], y[1]\n",
    "        test_x, test_y = x[2], y[2]\n",
    "        \n",
    "        # 미니배치 만들기 x[0], y[0] --> train set\n",
    "        indices= torch.randperm(train_x.size(0), device=train_x.device)\n",
    "        train_x = torch.index_select(train_x, dim=0, index=indices)\n",
    "        train_y = torch.index_select(train_y, dim=0, index=indices)\n",
    "        train_x_batch = torch.split(train_x, batch_size, dim=0)\n",
    "        train_y_batch = torch.split(train_y, batch_size, dim=0)\n",
    "        \n",
    "        # 개별 |train_x_batch| = (batch_size, input_dim)\n",
    "\n",
    "        ### Train 데이터 학습 시작 ###\n",
    "        model.train() # 학습모드 On\n",
    "        total_loss_train = 0\n",
    "        for batch_index in range(len(train_x_batch)):\n",
    "            \n",
    "            # 텐서 형태\n",
    "            # |x_i| = (batch_size, 13)\n",
    "            # |y_i| = (batch_size, 1)\n",
    "            \n",
    "            # 전진(forward) 학습 \n",
    "            y_hat = model(train_x_batch[batch_index])\n",
    "\n",
    "            # 손실값 계산\n",
    "            loss = loss_func(y_hat, train_y_batch[batch_index])\n",
    "\n",
    "            # 미분 수행 (back propagation)\n",
    "            optimizer.zero_grad() # 기존 미분값이 있다면 초기화\n",
    "            loss.backward()\n",
    "        \n",
    "            # Stochastic Gradient Descent 수행\n",
    "            optimizer.step()\n",
    "            \n",
    "            # Total Loss 업데이트\n",
    "            total_loss_train += float(loss) \n",
    "        \n",
    "        # 최종 Train Loss 계산 -> Train 종료\n",
    "        train_loss = total_loss_train / len(train_x_batch)\n",
    "        \n",
    "        ### Validation 시작 ###\n",
    "        model.eval() # 학습모드 off\n",
    "        with torch.no_grad():\n",
    "            y_hat = model(valid_x)\n",
    "            loss = loss_func(y_hat, valid_y)\n",
    "            valid_loss = loss / len(valid_y)\n",
    "\n",
    "        # Valid Loss를 확인하여 모델을 저장\n",
    "        if valid_loss <= lowest_loss:\n",
    "            lowest_loss = valid_loss\n",
    "            best_model = deepcopy(model.state_dict())\n",
    "            torch.save(\n",
    "                {\n",
    "                    'model': best_model,\n",
    "                    'n_epochs': n_epochs,\n",
    "                    'batch_size': batch_size,\n",
    "                    'lr': lr,\n",
    "                    'optimizer': 'SGD',\n",
    "                }, \n",
    "                'model_regression.pth'\n",
    "            )\n",
    "            \n",
    "        # 1회 epoch 종료 후 Loss 출력\n",
    "        if (epoch_index + 1) % print_interval == 0:\n",
    "            print(\n",
    "                'Epoch({0:2d}/{1:2d}): train_loss={2:8.6f}  valid_loss={3:8.6f}  lowest_loss={4:8.6f}'.format(\n",
    "                    epoch_index+1, \n",
    "                    n_epochs,\n",
    "                    train_loss,\n",
    "                    valid_loss,\n",
    "                    lowest_loss,               \n",
    "                )\n",
    "            )"
   ]
  },
  {
   "cell_type": "code",
   "execution_count": 571,
   "metadata": {},
   "outputs": [
    {
     "name": "stdout",
     "output_type": "stream",
     "text": [
      "Sequential(\n",
      "  (0): Linear(in_features=13, out_features=5, bias=True)\n",
      "  (1): LeakyReLU(negative_slope=0.01)\n",
      "  (2): Linear(in_features=5, out_features=5, bias=True)\n",
      "  (3): LeakyReLU(negative_slope=0.01)\n",
      "  (4): Linear(in_features=5, out_features=5, bias=True)\n",
      "  (5): LeakyReLU(negative_slope=0.01)\n",
      "  (6): Linear(in_features=5, out_features=5, bias=True)\n",
      "  (7): LeakyReLU(negative_slope=0.01)\n",
      "  (8): Linear(in_features=5, out_features=5, bias=True)\n",
      "  (9): LeakyReLU(negative_slope=0.01)\n",
      "  (10): Linear(in_features=5, out_features=1, bias=True)\n",
      ")\n"
     ]
    }
   ],
   "source": [
    "# Pytorch의 nn.Sequential을 활용하는 방법\n",
    "input_dim = x[0].size(-1)\n",
    "ouput_dim = y[0].size(-1)\n",
    "model_sequential = nn.Sequential(\n",
    "    nn.Linear(input_dim, 5),\n",
    "    nn.LeakyReLU(),\n",
    "    nn.Linear(5, 5),\n",
    "    nn.LeakyReLU(),\n",
    "    nn.Linear(5, 5),\n",
    "    nn.LeakyReLU(),\n",
    "    nn.Linear(5, 5),\n",
    "    nn.LeakyReLU(),\n",
    "    nn.Linear(5, 5),\n",
    "    nn.LeakyReLU(),\n",
    "    nn.Linear(5, ouput_dim),\n",
    ")\n",
    "\n",
    "# 네트워크 형태 확인을 위해 화면에 모델을 출력\n",
    "print(model_sequential)"
   ]
  },
  {
   "cell_type": "code",
   "execution_count": 573,
   "metadata": {},
   "outputs": [],
   "source": [
    "# 하이퍼 파라미터\n",
    "batch_size = 32\n",
    "n_epochs = 10000\n",
    "print_interval = 1000\n",
    "learning_rate = 1e-4\n",
    "model_MyModel = MyModel(x[0].size(-1), y[0].size(-1))\n",
    "model_sequential\n",
    "loss_func = F.mse_loss"
   ]
  },
  {
   "cell_type": "code",
   "execution_count": 558,
   "metadata": {},
   "outputs": [
    {
     "name": "stdout",
     "output_type": "stream",
     "text": [
      "Epoch(1000/10000): train_loss=4.495353  valid_loss=0.138391  lowest_loss=0.137415\n",
      "Epoch(2000/10000): train_loss=2.209468  valid_loss=0.152111  lowest_loss=0.137091\n",
      "Epoch(3000/10000): train_loss=1.494419  valid_loss=0.155665  lowest_loss=0.137091\n",
      "Epoch(4000/10000): train_loss=1.063480  valid_loss=0.158772  lowest_loss=0.137091\n",
      "Epoch(5000/10000): train_loss=0.818182  valid_loss=0.164249  lowest_loss=0.137091\n",
      "Epoch(6000/10000): train_loss=0.634298  valid_loss=0.176798  lowest_loss=0.137091\n",
      "Epoch(7000/10000): train_loss=0.468296  valid_loss=0.190179  lowest_loss=0.137091\n",
      "Epoch(8000/10000): train_loss=0.379305  valid_loss=0.203980  lowest_loss=0.137091\n",
      "Epoch(9000/10000): train_loss=0.319817  valid_loss=0.212689  lowest_loss=0.137091\n",
      "Epoch(10000/10000): train_loss=0.272681  valid_loss=0.224924  lowest_loss=0.137091\n"
     ]
    }
   ],
   "source": [
    "train(model_MyModel, x, y, loss_func, n_epochs=n_epochs, batch_size=batch_size, print_interval=print_interval)"
   ]
  },
  {
   "cell_type": "code",
   "execution_count": 559,
   "metadata": {},
   "outputs": [],
   "source": [
    "# 데이터 평가\n",
    "# n_epochs = check_point['n_epochs']\n",
    "# batch_size = check_point['batch_size']\n",
    "# lr = check_point['lr']"
   ]
  },
  {
   "cell_type": "code",
   "execution_count": 566,
   "metadata": {},
   "outputs": [
    {
     "data": {
      "text/plain": [
       "<All keys matched successfully>"
      ]
     },
     "execution_count": 566,
     "metadata": {},
     "output_type": "execute_result"
    }
   ],
   "source": [
    "# nn.Module을 상속받은 클래스를 이용하여 빈 모델 생성\n",
    "model = MyModel(x[0].size(-1), y[0].size(-1))\n",
    "\n",
    "# model.pth 파일 정보를 업로드하여 check_point 변수에 저장\n",
    "check_point = torch.load('./model_regression.pth')\n",
    "\n",
    "# model.pth에 저장된 학습 파라미터를 model에 업로드\n",
    "model.load_state_dict(check_point['model'])"
   ]
  },
  {
   "cell_type": "code",
   "execution_count": 561,
   "metadata": {},
   "outputs": [
    {
     "name": "stdout",
     "output_type": "stream",
     "text": [
      "             y      y_hat\n",
      "0    18.000000  17.555563\n",
      "1    33.400002  38.566788\n",
      "2    15.200000  15.355096\n",
      "3    21.200001  22.037966\n",
      "4    18.900000  14.216433\n",
      "..         ...        ...\n",
      "97   20.400000  20.213297\n",
      "98   16.100000  23.219715\n",
      "99   16.600000  15.705433\n",
      "100  34.900002  35.120163\n",
      "101  21.700001  18.957928\n",
      "\n",
      "[102 rows x 2 columns]\n"
     ]
    }
   ],
   "source": [
    "# 예측값과 실제값을 표로 비교\n",
    "y_hat = model(x[2])\n",
    "y = y[2]\n",
    "df = pd.DataFrame(torch.cat([y, y_hat], dim=1).detach().numpy(),\n",
    "                  columns=[\"y\", \"y_hat\"])\n",
    "print(df)"
   ]
  },
  {
   "cell_type": "code",
   "execution_count": 562,
   "metadata": {},
   "outputs": [
    {
     "data": {
      "image/png": "[encoded data removed]",
      "text/plain": [
       "<Figure size 1000x1000 with 6 Axes>"
      ]
     },
     "metadata": {},
     "output_type": "display_data"
    }
   ],
   "source": [
    "import seaborn as sns\n",
    "import matplotlib.pyplot as plt\n",
    "sns.pairplot(df, height=5)\n",
    "plt.show()"
   ]
  },
  {
   "cell_type": "code",
   "execution_count": 570,
   "metadata": {},
   "outputs": [
    {
     "data": {
      "text/plain": [
       "<All keys matched successfully>"
      ]
     },
     "execution_count": 570,
     "metadata": {},
     "output_type": "execute_result"
    }
   ],
   "source": [
    "# 파라미터가 적재되지 않은 초기 모델 생성\n",
    "input_dim = x[0].size(-1)\n",
    "ouput_dim = y[0].size(-1)\n",
    "model_sequencial = nn.Sequential(\n",
    "    nn.Linear(input_dim, 5),\n",
    "    nn.LeakyReLU(),\n",
    "    nn.Linear(5, 5),\n",
    "    nn.LeakyReLU(),\n",
    "    nn.Linear(5, 5),\n",
    "    nn.LeakyReLU(),\n",
    "    nn.Linear(5, 5),\n",
    "    nn.LeakyReLU(),\n",
    "    nn.Linear(5, 5),\n",
    "    nn.LeakyReLU(),\n",
    "    nn.Linear(5, ouput_dim),\n",
    ")\n",
    "\n",
    "# 저장된 모델 파일을 이용하여 모델에 파라미터 적재\n",
    "model.load_state_dict(check_point['model'])"
   ]
  },
  {
   "cell_type": "code",
   "execution_count": 574,
   "metadata": {},
   "outputs": [
    {
     "ename": "IndexError",
     "evalue": "index out of range in self",
     "output_type": "error",
     "traceback": [
      "\u001b[1;31m---------------------------------------------------------------------------\u001b[0m",
      "\u001b[1;31mIndexError\u001b[0m                                Traceback (most recent call last)",
      "\u001b[1;32m~\\AppData\\Local\\Temp\\ipykernel_4356\\2671244652.py\u001b[0m in \u001b[0;36m<module>\u001b[1;34m\u001b[0m\n\u001b[1;32m----> 1\u001b[1;33m \u001b[0mtrain\u001b[0m\u001b[1;33m(\u001b[0m\u001b[0mmodel_sequential\u001b[0m\u001b[1;33m,\u001b[0m \u001b[0mx\u001b[0m\u001b[1;33m,\u001b[0m \u001b[0my\u001b[0m\u001b[1;33m,\u001b[0m \u001b[0mloss_func\u001b[0m\u001b[1;33m,\u001b[0m \u001b[0mn_epochs\u001b[0m\u001b[1;33m=\u001b[0m\u001b[0mn_epochs\u001b[0m\u001b[1;33m,\u001b[0m \u001b[0mbatch_size\u001b[0m\u001b[1;33m=\u001b[0m\u001b[0mbatch_size\u001b[0m\u001b[1;33m,\u001b[0m \u001b[0mprint_interval\u001b[0m\u001b[1;33m=\u001b[0m\u001b[0mprint_interval\u001b[0m\u001b[1;33m)\u001b[0m\u001b[1;33m\u001b[0m\u001b[1;33m\u001b[0m\u001b[0m\n\u001b[0m",
      "\u001b[1;32m~\\AppData\\Local\\Temp\\ipykernel_4356\\2063596367.py\u001b[0m in \u001b[0;36mtrain\u001b[1;34m(model, x, y, loss_func, lr, n_epochs, batch_size, print_interval)\u001b[0m\n\u001b[0;32m     49\u001b[0m         \u001b[0mindices\u001b[0m\u001b[1;33m=\u001b[0m \u001b[0mtorch\u001b[0m\u001b[1;33m.\u001b[0m\u001b[0mrandperm\u001b[0m\u001b[1;33m(\u001b[0m\u001b[0mtrain_x\u001b[0m\u001b[1;33m.\u001b[0m\u001b[0msize\u001b[0m\u001b[1;33m(\u001b[0m\u001b[1;36m0\u001b[0m\u001b[1;33m)\u001b[0m\u001b[1;33m,\u001b[0m \u001b[0mdevice\u001b[0m\u001b[1;33m=\u001b[0m\u001b[0mtrain_x\u001b[0m\u001b[1;33m.\u001b[0m\u001b[0mdevice\u001b[0m\u001b[1;33m)\u001b[0m\u001b[1;33m\u001b[0m\u001b[1;33m\u001b[0m\u001b[0m\n\u001b[0;32m     50\u001b[0m         \u001b[0mtrain_x\u001b[0m \u001b[1;33m=\u001b[0m \u001b[0mtorch\u001b[0m\u001b[1;33m.\u001b[0m\u001b[0mindex_select\u001b[0m\u001b[1;33m(\u001b[0m\u001b[0mtrain_x\u001b[0m\u001b[1;33m,\u001b[0m \u001b[0mdim\u001b[0m\u001b[1;33m=\u001b[0m\u001b[1;36m0\u001b[0m\u001b[1;33m,\u001b[0m \u001b[0mindex\u001b[0m\u001b[1;33m=\u001b[0m\u001b[0mindices\u001b[0m\u001b[1;33m)\u001b[0m\u001b[1;33m\u001b[0m\u001b[1;33m\u001b[0m\u001b[0m\n\u001b[1;32m---> 51\u001b[1;33m         \u001b[0mtrain_y\u001b[0m \u001b[1;33m=\u001b[0m \u001b[0mtorch\u001b[0m\u001b[1;33m.\u001b[0m\u001b[0mindex_select\u001b[0m\u001b[1;33m(\u001b[0m\u001b[0mtrain_y\u001b[0m\u001b[1;33m,\u001b[0m \u001b[0mdim\u001b[0m\u001b[1;33m=\u001b[0m\u001b[1;36m0\u001b[0m\u001b[1;33m,\u001b[0m \u001b[0mindex\u001b[0m\u001b[1;33m=\u001b[0m\u001b[0mindices\u001b[0m\u001b[1;33m)\u001b[0m\u001b[1;33m\u001b[0m\u001b[1;33m\u001b[0m\u001b[0m\n\u001b[0m\u001b[0;32m     52\u001b[0m         \u001b[0mtrain_x_batch\u001b[0m \u001b[1;33m=\u001b[0m \u001b[0mtorch\u001b[0m\u001b[1;33m.\u001b[0m\u001b[0msplit\u001b[0m\u001b[1;33m(\u001b[0m\u001b[0mtrain_x\u001b[0m\u001b[1;33m,\u001b[0m \u001b[0mbatch_size\u001b[0m\u001b[1;33m,\u001b[0m \u001b[0mdim\u001b[0m\u001b[1;33m=\u001b[0m\u001b[1;36m0\u001b[0m\u001b[1;33m)\u001b[0m\u001b[1;33m\u001b[0m\u001b[1;33m\u001b[0m\u001b[0m\n\u001b[0;32m     53\u001b[0m         \u001b[0mtrain_y_batch\u001b[0m \u001b[1;33m=\u001b[0m \u001b[0mtorch\u001b[0m\u001b[1;33m.\u001b[0m\u001b[0msplit\u001b[0m\u001b[1;33m(\u001b[0m\u001b[0mtrain_y\u001b[0m\u001b[1;33m,\u001b[0m \u001b[0mbatch_size\u001b[0m\u001b[1;33m,\u001b[0m \u001b[0mdim\u001b[0m\u001b[1;33m=\u001b[0m\u001b[1;36m0\u001b[0m\u001b[1;33m)\u001b[0m\u001b[1;33m\u001b[0m\u001b[1;33m\u001b[0m\u001b[0m\n",
      "\u001b[1;31mIndexError\u001b[0m: index out of range in self"
     ]
    }
   ],
   "source": [
    "train(model_sequential, x, y, loss_func, n_epochs=n_epochs, batch_size=batch_size, print_interval=print_interval)"
   ]
  },
  {
   "cell_type": "code",
   "execution_count": null,
   "metadata": {},
   "outputs": [],
   "source": [
    "#300쪽 부터"
   ]
  }
 ],
 "metadata": {
  "kernelspec": {
   "display_name": "base",
   "language": "python",
   "name": "python3"
  },
  "language_info": {
   "codemirror_mode": {
    "name": "ipython",
    "version": 3
   },
   "file_extension": ".py",
   "mimetype": "text/x-python",
   "name": "python",
   "nbconvert_exporter": "python",
   "pygments_lexer": "ipython3",
   "version": "3.9.13"
  },
  "orig_nbformat": 4,
  "vscode": {
   "interpreter": {
    "hash": "449cd866cea14defc9854d45f99515e1fe2a16247e7db0e37b65bfc5c2f2b970"
   }
  }
 },
 "nbformat": 4,
 "nbformat_minor": 2
}
