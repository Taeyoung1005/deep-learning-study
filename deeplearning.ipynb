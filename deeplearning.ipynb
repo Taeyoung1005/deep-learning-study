{
 "cells": [
  {
   "cell_type": "code",
   "execution_count": 100,
   "metadata": {},
   "outputs": [],
   "source": [
    "import torch"
   ]
  },
  {
   "cell_type": "code",
   "execution_count": 101,
   "metadata": {},
   "outputs": [],
   "source": [
    "float_tensor = torch.FloatTensor([[1,2], [3,4]])"
   ]
  },
  {
   "cell_type": "code",
   "execution_count": 102,
   "metadata": {},
   "outputs": [
    {
     "data": {
      "text/plain": [
       "tensor([[1., 2.],\n",
       "        [3., 4.]])"
      ]
     },
     "execution_count": 102,
     "metadata": {},
     "output_type": "execute_result"
    }
   ],
   "source": [
    "float_tensor"
   ]
  },
  {
   "cell_type": "code",
   "execution_count": 103,
   "metadata": {},
   "outputs": [],
   "source": [
    "int_tensor = torch.LongTensor([[1,2], [3,4]])"
   ]
  },
  {
   "cell_type": "code",
   "execution_count": 104,
   "metadata": {},
   "outputs": [
    {
     "data": {
      "text/plain": [
       "tensor([[1, 2],\n",
       "        [3, 4]])"
      ]
     },
     "execution_count": 104,
     "metadata": {},
     "output_type": "execute_result"
    }
   ],
   "source": [
    "int_tensor"
   ]
  },
  {
   "cell_type": "code",
   "execution_count": 105,
   "metadata": {},
   "outputs": [],
   "source": [
    "float_tensor = torch.FloatTensor(3, 4)"
   ]
  },
  {
   "cell_type": "code",
   "execution_count": 106,
   "metadata": {},
   "outputs": [
    {
     "data": {
      "text/plain": [
       "tensor([[0., 0., 0., 0.],\n",
       "        [0., 0., 0., 0.],\n",
       "        [0., 0., 0., 0.]])"
      ]
     },
     "execution_count": 106,
     "metadata": {},
     "output_type": "execute_result"
    }
   ],
   "source": [
    "float_tensor"
   ]
  },
  {
   "cell_type": "code",
   "execution_count": 107,
   "metadata": {},
   "outputs": [],
   "source": [
    "float_tensor = torch.FloatTensor(3, 4, 2)"
   ]
  },
  {
   "cell_type": "code",
   "execution_count": 108,
   "metadata": {},
   "outputs": [
    {
     "data": {
      "text/plain": [
       "tensor([[[0., 0.],\n",
       "         [0., 0.],\n",
       "         [0., 0.],\n",
       "         [0., 0.]],\n",
       "\n",
       "        [[0., 0.],\n",
       "         [0., 0.],\n",
       "         [0., 0.],\n",
       "         [0., 0.]],\n",
       "\n",
       "        [[0., 0.],\n",
       "         [0., 0.],\n",
       "         [0., 0.],\n",
       "         [0., 0.]]])"
      ]
     },
     "execution_count": 108,
     "metadata": {},
     "output_type": "execute_result"
    }
   ],
   "source": [
    "float_tensor"
   ]
  },
  {
   "cell_type": "code",
   "execution_count": 109,
   "metadata": {},
   "outputs": [],
   "source": [
    "import numpy as np"
   ]
  },
  {
   "cell_type": "code",
   "execution_count": 110,
   "metadata": {},
   "outputs": [],
   "source": [
    "arr = np.array([[1, 2, 3], [4, 5, 6]])"
   ]
  },
  {
   "cell_type": "code",
   "execution_count": 111,
   "metadata": {},
   "outputs": [
    {
     "data": {
      "text/plain": [
       "array([[1, 2, 3],\n",
       "       [4, 5, 6]])"
      ]
     },
     "execution_count": 111,
     "metadata": {},
     "output_type": "execute_result"
    }
   ],
   "source": [
    "arr"
   ]
  },
  {
   "cell_type": "code",
   "execution_count": 112,
   "metadata": {},
   "outputs": [],
   "source": [
    "t = torch.from_numpy(arr)"
   ]
  },
  {
   "cell_type": "code",
   "execution_count": 113,
   "metadata": {},
   "outputs": [
    {
     "data": {
      "text/plain": [
       "tensor([[1, 2, 3],\n",
       "        [4, 5, 6]], dtype=torch.int32)"
      ]
     },
     "execution_count": 113,
     "metadata": {},
     "output_type": "execute_result"
    }
   ],
   "source": [
    "t"
   ]
  },
  {
   "cell_type": "code",
   "execution_count": 114,
   "metadata": {},
   "outputs": [],
   "source": [
    "t = torch.FloatTensor(2, 3)"
   ]
  },
  {
   "cell_type": "code",
   "execution_count": 115,
   "metadata": {},
   "outputs": [
    {
     "data": {
      "text/plain": [
       "tensor([[1.7246e-07, 6.3017e-10, 2.6831e-09],\n",
       "        [6.4536e-10, 4.2109e-11, 7.5034e+28]])"
      ]
     },
     "execution_count": 115,
     "metadata": {},
     "output_type": "execute_result"
    }
   ],
   "source": [
    "t"
   ]
  },
  {
   "cell_type": "code",
   "execution_count": 116,
   "metadata": {},
   "outputs": [],
   "source": [
    "a = t.numpy()"
   ]
  },
  {
   "cell_type": "code",
   "execution_count": 117,
   "metadata": {},
   "outputs": [
    {
     "data": {
      "text/plain": [
       "array([[1.7245917e-07, 6.3016886e-10, 2.6830778e-09],\n",
       "       [6.4536310e-10, 4.2108709e-11, 7.5033667e+28]], dtype=float32)"
      ]
     },
     "execution_count": 117,
     "metadata": {},
     "output_type": "execute_result"
    }
   ],
   "source": [
    "a"
   ]
  },
  {
   "cell_type": "code",
   "execution_count": 118,
   "metadata": {},
   "outputs": [],
   "source": [
    "long_tensor = float_tensor.long()"
   ]
  },
  {
   "cell_type": "code",
   "execution_count": 119,
   "metadata": {},
   "outputs": [
    {
     "data": {
      "text/plain": [
       "tensor([[[0., 0.],\n",
       "         [0., 0.],\n",
       "         [0., 0.],\n",
       "         [0., 0.]],\n",
       "\n",
       "        [[0., 0.],\n",
       "         [0., 0.],\n",
       "         [0., 0.],\n",
       "         [0., 0.]],\n",
       "\n",
       "        [[0., 0.],\n",
       "         [0., 0.],\n",
       "         [0., 0.],\n",
       "         [0., 0.]]])"
      ]
     },
     "execution_count": 119,
     "metadata": {},
     "output_type": "execute_result"
    }
   ],
   "source": [
    "float_tensor"
   ]
  },
  {
   "cell_type": "code",
   "execution_count": 120,
   "metadata": {},
   "outputs": [
    {
     "data": {
      "text/plain": [
       "tensor([[[0, 0],\n",
       "         [0, 0],\n",
       "         [0, 0],\n",
       "         [0, 0]],\n",
       "\n",
       "        [[0, 0],\n",
       "         [0, 0],\n",
       "         [0, 0],\n",
       "         [0, 0]],\n",
       "\n",
       "        [[0, 0],\n",
       "         [0, 0],\n",
       "         [0, 0],\n",
       "         [0, 0]]])"
      ]
     },
     "execution_count": 120,
     "metadata": {},
     "output_type": "execute_result"
    }
   ],
   "source": [
    "long_tensor"
   ]
  },
  {
   "cell_type": "code",
   "execution_count": 121,
   "metadata": {},
   "outputs": [
    {
     "data": {
      "text/plain": [
       "tensor([[[0., 0.],\n",
       "         [0., 0.],\n",
       "         [0., 0.],\n",
       "         [0., 0.]],\n",
       "\n",
       "        [[0., 0.],\n",
       "         [0., 0.],\n",
       "         [0., 0.],\n",
       "         [0., 0.]],\n",
       "\n",
       "        [[0., 0.],\n",
       "         [0., 0.],\n",
       "         [0., 0.],\n",
       "         [0., 0.]]])"
      ]
     },
     "execution_count": 121,
     "metadata": {},
     "output_type": "execute_result"
    }
   ],
   "source": [
    "long_tensor.float()"
   ]
  },
  {
   "cell_type": "code",
   "execution_count": 122,
   "metadata": {},
   "outputs": [],
   "source": [
    "t = torch.LongTensor(3, 4, 2)"
   ]
  },
  {
   "cell_type": "code",
   "execution_count": 123,
   "metadata": {},
   "outputs": [
    {
     "data": {
      "text/plain": [
       "tensor([[[7234013760822721058, 7162471825223856949],\n",
       "         [3703194973330629433, 3834360127091718242],\n",
       "         [3906414611589981795, 3180160594793673776],\n",
       "         [8751724873810518560, 8675377779008759152]],\n",
       "\n",
       "        [[7310010034525922149, 8440344025574763632],\n",
       "         [2478507435169572211, 7958535038077902906],\n",
       "         [8296228837497597281, 4189032028197581669],\n",
       "         [3689965851990041120, 7149855174074120246]],\n",
       "\n",
       "        [[4062866320112564066, 7377799122255373369],\n",
       "         [7215364926928610615, 3612485285161825377],\n",
       "         [3471484970759041584, 4194030179597767732],\n",
       "         [3474584532859893297, 7311068566657325620]]])"
      ]
     },
     "execution_count": 123,
     "metadata": {},
     "output_type": "execute_result"
    }
   ],
   "source": [
    "t"
   ]
  },
  {
   "cell_type": "code",
   "execution_count": 124,
   "metadata": {},
   "outputs": [
    {
     "data": {
      "text/plain": [
       "torch.Size([3, 4, 2])"
      ]
     },
     "execution_count": 124,
     "metadata": {},
     "output_type": "execute_result"
    }
   ],
   "source": [
    "t.shape"
   ]
  },
  {
   "cell_type": "code",
   "execution_count": 125,
   "metadata": {},
   "outputs": [
    {
     "data": {
      "text/plain": [
       "torch.Size([3, 4, 2])"
      ]
     },
     "execution_count": 125,
     "metadata": {},
     "output_type": "execute_result"
    }
   ],
   "source": [
    "t.size()"
   ]
  },
  {
   "cell_type": "code",
   "execution_count": 126,
   "metadata": {},
   "outputs": [
    {
     "data": {
      "text/plain": [
       "3"
      ]
     },
     "execution_count": 126,
     "metadata": {},
     "output_type": "execute_result"
    }
   ],
   "source": [
    "t.size(0)"
   ]
  },
  {
   "cell_type": "code",
   "execution_count": 127,
   "metadata": {},
   "outputs": [
    {
     "data": {
      "text/plain": [
       "4"
      ]
     },
     "execution_count": 127,
     "metadata": {},
     "output_type": "execute_result"
    }
   ],
   "source": [
    "t.size(1)"
   ]
  },
  {
   "cell_type": "code",
   "execution_count": 128,
   "metadata": {},
   "outputs": [
    {
     "data": {
      "text/plain": [
       "tensor([[0., 0., 0.],\n",
       "        [0., 0., 0.]])"
      ]
     },
     "execution_count": 128,
     "metadata": {},
     "output_type": "execute_result"
    }
   ],
   "source": [
    "torch.zeros(2, 3)"
   ]
  },
  {
   "cell_type": "code",
   "execution_count": 129,
   "metadata": {},
   "outputs": [
    {
     "data": {
      "text/plain": [
       "tensor([[0.7732, 0.9035, 0.1197],\n",
       "        [0.3363, 0.6198, 0.3302]])"
      ]
     },
     "execution_count": 129,
     "metadata": {},
     "output_type": "execute_result"
    }
   ],
   "source": [
    "torch.rand(2, 3)"
   ]
  },
  {
   "cell_type": "code",
   "execution_count": 130,
   "metadata": {},
   "outputs": [],
   "source": [
    "t = torch.rand(4, 4)"
   ]
  },
  {
   "cell_type": "code",
   "execution_count": 131,
   "metadata": {},
   "outputs": [
    {
     "data": {
      "text/plain": [
       "tensor([[0.4072, 0.2658, 0.2387, 0.1584],\n",
       "        [0.0954, 0.1335, 0.0728, 0.9333],\n",
       "        [0.8254, 0.3097, 0.3952, 0.8048],\n",
       "        [0.0524, 0.1077, 0.9497, 0.0411]])"
      ]
     },
     "execution_count": 131,
     "metadata": {},
     "output_type": "execute_result"
    }
   ],
   "source": [
    "t"
   ]
  },
  {
   "cell_type": "code",
   "execution_count": 132,
   "metadata": {},
   "outputs": [],
   "source": [
    "b = t.view(2, 8)"
   ]
  },
  {
   "cell_type": "code",
   "execution_count": 133,
   "metadata": {},
   "outputs": [
    {
     "data": {
      "text/plain": [
       "tensor([[0.4072, 0.2658, 0.2387, 0.1584, 0.0954, 0.1335, 0.0728, 0.9333],\n",
       "        [0.8254, 0.3097, 0.3952, 0.8048, 0.0524, 0.1077, 0.9497, 0.0411]])"
      ]
     },
     "execution_count": 133,
     "metadata": {},
     "output_type": "execute_result"
    }
   ],
   "source": [
    "b"
   ]
  },
  {
   "cell_type": "code",
   "execution_count": 134,
   "metadata": {},
   "outputs": [
    {
     "data": {
      "text/plain": [
       "True"
      ]
     },
     "execution_count": 134,
     "metadata": {},
     "output_type": "execute_result"
    }
   ],
   "source": [
    "t.storage().data_ptr() == b.storage().data_ptr()"
   ]
  },
  {
   "cell_type": "code",
   "execution_count": 135,
   "metadata": {},
   "outputs": [],
   "source": [
    "b[0][0] = 3.14"
   ]
  },
  {
   "cell_type": "code",
   "execution_count": 136,
   "metadata": {},
   "outputs": [
    {
     "name": "stdout",
     "output_type": "stream",
     "text": [
      "tensor(3.1400)\n",
      "tensor(3.1400)\n"
     ]
    }
   ],
   "source": [
    "print(b[0][0])\n",
    "print(t[0][0])"
   ]
  },
  {
   "cell_type": "code",
   "execution_count": 137,
   "metadata": {},
   "outputs": [],
   "source": [
    "a = torch.arange(4.)"
   ]
  },
  {
   "cell_type": "code",
   "execution_count": 138,
   "metadata": {},
   "outputs": [
    {
     "data": {
      "text/plain": [
       "tensor([0., 1., 2., 3.])"
      ]
     },
     "execution_count": 138,
     "metadata": {},
     "output_type": "execute_result"
    }
   ],
   "source": [
    "a"
   ]
  },
  {
   "cell_type": "code",
   "execution_count": 139,
   "metadata": {},
   "outputs": [
    {
     "data": {
      "text/plain": [
       "tensor([[0., 1.],\n",
       "        [2., 3.]])"
      ]
     },
     "execution_count": 139,
     "metadata": {},
     "output_type": "execute_result"
    }
   ],
   "source": [
    "torch.reshape(a, (2, 2))"
   ]
  },
  {
   "cell_type": "code",
   "execution_count": 140,
   "metadata": {},
   "outputs": [],
   "source": [
    "b = torch.tensor([[0, 1], [2, 3]])"
   ]
  },
  {
   "cell_type": "code",
   "execution_count": 141,
   "metadata": {},
   "outputs": [
    {
     "data": {
      "text/plain": [
       "tensor([[0, 1],\n",
       "        [2, 3]])"
      ]
     },
     "execution_count": 141,
     "metadata": {},
     "output_type": "execute_result"
    }
   ],
   "source": [
    "b"
   ]
  },
  {
   "cell_type": "code",
   "execution_count": 142,
   "metadata": {},
   "outputs": [
    {
     "data": {
      "text/plain": [
       "tensor([0, 1, 2, 3])"
      ]
     },
     "execution_count": 142,
     "metadata": {},
     "output_type": "execute_result"
    }
   ],
   "source": [
    "torch.reshape(b, (-1,))"
   ]
  },
  {
   "cell_type": "code",
   "execution_count": 143,
   "metadata": {},
   "outputs": [],
   "source": [
    "x = torch.zeros(2, 1, 2, 1, 2)"
   ]
  },
  {
   "cell_type": "code",
   "execution_count": 144,
   "metadata": {},
   "outputs": [
    {
     "data": {
      "text/plain": [
       "torch.Size([2, 1, 2, 1, 2])"
      ]
     },
     "execution_count": 144,
     "metadata": {},
     "output_type": "execute_result"
    }
   ],
   "source": [
    "x.size()"
   ]
  },
  {
   "cell_type": "code",
   "execution_count": 145,
   "metadata": {},
   "outputs": [],
   "source": [
    "y = torch.squeeze(x)"
   ]
  },
  {
   "cell_type": "code",
   "execution_count": 146,
   "metadata": {},
   "outputs": [
    {
     "data": {
      "text/plain": [
       "torch.Size([2, 2, 2])"
      ]
     },
     "execution_count": 146,
     "metadata": {},
     "output_type": "execute_result"
    }
   ],
   "source": [
    "y.size()"
   ]
  },
  {
   "cell_type": "code",
   "execution_count": 147,
   "metadata": {},
   "outputs": [
    {
     "data": {
      "text/plain": [
       "True"
      ]
     },
     "execution_count": 147,
     "metadata": {},
     "output_type": "execute_result"
    }
   ],
   "source": [
    "x.storage().data_ptr() == y.storage().data_ptr()"
   ]
  },
  {
   "cell_type": "code",
   "execution_count": 148,
   "metadata": {},
   "outputs": [
    {
     "data": {
      "text/plain": [
       "tensor([[[[[0., 0.]],\n",
       "\n",
       "          [[0., 0.]]]],\n",
       "\n",
       "\n",
       "\n",
       "        [[[[0., 0.]],\n",
       "\n",
       "          [[0., 0.]]]]])"
      ]
     },
     "execution_count": 148,
     "metadata": {},
     "output_type": "execute_result"
    }
   ],
   "source": [
    "x"
   ]
  },
  {
   "cell_type": "code",
   "execution_count": 149,
   "metadata": {},
   "outputs": [],
   "source": [
    "y = torch.squeeze(x, 0)"
   ]
  },
  {
   "cell_type": "code",
   "execution_count": 150,
   "metadata": {},
   "outputs": [
    {
     "data": {
      "text/plain": [
       "torch.Size([2, 1, 2, 1, 2])"
      ]
     },
     "execution_count": 150,
     "metadata": {},
     "output_type": "execute_result"
    }
   ],
   "source": [
    "y.size()"
   ]
  },
  {
   "cell_type": "code",
   "execution_count": 151,
   "metadata": {},
   "outputs": [
    {
     "data": {
      "text/plain": [
       "tensor([[[[[0., 0.]],\n",
       "\n",
       "          [[0., 0.]]]],\n",
       "\n",
       "\n",
       "\n",
       "        [[[[0., 0.]],\n",
       "\n",
       "          [[0., 0.]]]]])"
      ]
     },
     "execution_count": 151,
     "metadata": {},
     "output_type": "execute_result"
    }
   ],
   "source": [
    "y"
   ]
  },
  {
   "cell_type": "code",
   "execution_count": 152,
   "metadata": {},
   "outputs": [],
   "source": [
    "y = torch.squeeze(x, 1)"
   ]
  },
  {
   "cell_type": "code",
   "execution_count": 153,
   "metadata": {},
   "outputs": [
    {
     "data": {
      "text/plain": [
       "tensor([[[[0., 0.]],\n",
       "\n",
       "         [[0., 0.]]],\n",
       "\n",
       "\n",
       "        [[[0., 0.]],\n",
       "\n",
       "         [[0., 0.]]]])"
      ]
     },
     "execution_count": 153,
     "metadata": {},
     "output_type": "execute_result"
    }
   ],
   "source": [
    "y"
   ]
  },
  {
   "cell_type": "code",
   "execution_count": 154,
   "metadata": {},
   "outputs": [],
   "source": [
    "#183쪽 unsqeeze()부터"
   ]
  },
  {
   "cell_type": "code",
   "execution_count": 155,
   "metadata": {},
   "outputs": [],
   "source": [
    "x = torch.tensor([1, 2, 3, 4])"
   ]
  },
  {
   "cell_type": "code",
   "execution_count": 156,
   "metadata": {},
   "outputs": [
    {
     "data": {
      "text/plain": [
       "tensor([1, 2, 3, 4])"
      ]
     },
     "execution_count": 156,
     "metadata": {},
     "output_type": "execute_result"
    }
   ],
   "source": [
    "x"
   ]
  },
  {
   "cell_type": "code",
   "execution_count": 157,
   "metadata": {},
   "outputs": [
    {
     "data": {
      "text/plain": [
       "torch.Size([4])"
      ]
     },
     "execution_count": 157,
     "metadata": {},
     "output_type": "execute_result"
    }
   ],
   "source": [
    "x.shape"
   ]
  },
  {
   "cell_type": "code",
   "execution_count": 158,
   "metadata": {},
   "outputs": [],
   "source": [
    "y = torch.unsqueeze(x, 0)"
   ]
  },
  {
   "cell_type": "code",
   "execution_count": 159,
   "metadata": {},
   "outputs": [
    {
     "data": {
      "text/plain": [
       "tensor([[1, 2, 3, 4]])"
      ]
     },
     "execution_count": 159,
     "metadata": {},
     "output_type": "execute_result"
    }
   ],
   "source": [
    "y"
   ]
  },
  {
   "cell_type": "code",
   "execution_count": 160,
   "metadata": {},
   "outputs": [
    {
     "data": {
      "text/plain": [
       "torch.Size([1, 4])"
      ]
     },
     "execution_count": 160,
     "metadata": {},
     "output_type": "execute_result"
    }
   ],
   "source": [
    "y.shape"
   ]
  },
  {
   "cell_type": "code",
   "execution_count": 161,
   "metadata": {},
   "outputs": [],
   "source": [
    "z = torch.unsqueeze(x, 1)"
   ]
  },
  {
   "cell_type": "code",
   "execution_count": 162,
   "metadata": {},
   "outputs": [
    {
     "data": {
      "text/plain": [
       "tensor([[1],\n",
       "        [2],\n",
       "        [3],\n",
       "        [4]])"
      ]
     },
     "execution_count": 162,
     "metadata": {},
     "output_type": "execute_result"
    }
   ],
   "source": [
    "z"
   ]
  },
  {
   "cell_type": "code",
   "execution_count": 163,
   "metadata": {},
   "outputs": [
    {
     "data": {
      "text/plain": [
       "torch.Size([4, 1])"
      ]
     },
     "execution_count": 163,
     "metadata": {},
     "output_type": "execute_result"
    }
   ],
   "source": [
    "z.shape"
   ]
  },
  {
   "cell_type": "code",
   "execution_count": 164,
   "metadata": {},
   "outputs": [],
   "source": [
    "x = torch.randn(2, 3)"
   ]
  },
  {
   "cell_type": "code",
   "execution_count": 165,
   "metadata": {},
   "outputs": [
    {
     "data": {
      "text/plain": [
       "tensor([[-1.5484, -0.1880,  0.1517],\n",
       "        [ 0.1251, -0.5043, -0.2554]])"
      ]
     },
     "execution_count": 165,
     "metadata": {},
     "output_type": "execute_result"
    }
   ],
   "source": [
    "x"
   ]
  },
  {
   "cell_type": "code",
   "execution_count": 166,
   "metadata": {},
   "outputs": [
    {
     "data": {
      "text/plain": [
       "tensor([[-1.5484,  0.1251],\n",
       "        [-0.1880, -0.5043],\n",
       "        [ 0.1517, -0.2554]])"
      ]
     },
     "execution_count": 166,
     "metadata": {},
     "output_type": "execute_result"
    }
   ],
   "source": [
    "torch.transpose(x, 0, 1)"
   ]
  },
  {
   "cell_type": "code",
   "execution_count": 167,
   "metadata": {},
   "outputs": [],
   "source": [
    "x = torch.randn(3, 4)"
   ]
  },
  {
   "cell_type": "code",
   "execution_count": 168,
   "metadata": {},
   "outputs": [
    {
     "data": {
      "text/plain": [
       "tensor([[ 0.3134, -0.3732,  1.8439, -0.2660],\n",
       "        [ 0.9557,  0.9806,  0.6675,  1.9678],\n",
       "        [-1.0265, -0.9563,  0.3288, -0.4334]])"
      ]
     },
     "execution_count": 168,
     "metadata": {},
     "output_type": "execute_result"
    }
   ],
   "source": [
    "x"
   ]
  },
  {
   "cell_type": "code",
   "execution_count": 169,
   "metadata": {},
   "outputs": [],
   "source": [
    "indices = torch.tensor([0, 2])"
   ]
  },
  {
   "cell_type": "code",
   "execution_count": 170,
   "metadata": {},
   "outputs": [
    {
     "data": {
      "text/plain": [
       "tensor([[ 0.3134, -0.3732,  1.8439, -0.2660],\n",
       "        [-1.0265, -0.9563,  0.3288, -0.4334]])"
      ]
     },
     "execution_count": 170,
     "metadata": {},
     "output_type": "execute_result"
    }
   ],
   "source": [
    "torch.index_select(x, 0, indices)"
   ]
  },
  {
   "cell_type": "code",
   "execution_count": 171,
   "metadata": {},
   "outputs": [
    {
     "data": {
      "text/plain": [
       "tensor([[ 0.3134,  1.8439],\n",
       "        [ 0.9557,  0.6675],\n",
       "        [-1.0265,  0.3288]])"
      ]
     },
     "execution_count": 171,
     "metadata": {},
     "output_type": "execute_result"
    }
   ],
   "source": [
    "torch.index_select(x, 1, indices)"
   ]
  },
  {
   "cell_type": "code",
   "execution_count": 172,
   "metadata": {},
   "outputs": [],
   "source": [
    "a = torch.arange(10).reshape(5, 2)"
   ]
  },
  {
   "cell_type": "code",
   "execution_count": 173,
   "metadata": {},
   "outputs": [
    {
     "data": {
      "text/plain": [
       "tensor([[0, 1],\n",
       "        [2, 3],\n",
       "        [4, 5],\n",
       "        [6, 7],\n",
       "        [8, 9]])"
      ]
     },
     "execution_count": 173,
     "metadata": {},
     "output_type": "execute_result"
    }
   ],
   "source": [
    "a"
   ]
  },
  {
   "cell_type": "code",
   "execution_count": 174,
   "metadata": {},
   "outputs": [
    {
     "data": {
      "text/plain": [
       "(tensor([[0, 1],\n",
       "         [2, 3]]),\n",
       " tensor([[4, 5],\n",
       "         [6, 7]]),\n",
       " tensor([[8, 9]]))"
      ]
     },
     "execution_count": 174,
     "metadata": {},
     "output_type": "execute_result"
    }
   ],
   "source": [
    "torch.split(a, 2)"
   ]
  },
  {
   "cell_type": "code",
   "execution_count": 175,
   "metadata": {},
   "outputs": [],
   "source": [
    "x = torch.randn(2, 3)"
   ]
  },
  {
   "cell_type": "code",
   "execution_count": 176,
   "metadata": {},
   "outputs": [
    {
     "data": {
      "text/plain": [
       "tensor([[ 0.6374,  0.0199, -0.7523],\n",
       "        [-0.6588,  0.4123, -0.2001]])"
      ]
     },
     "execution_count": 176,
     "metadata": {},
     "output_type": "execute_result"
    }
   ],
   "source": [
    "x"
   ]
  },
  {
   "cell_type": "code",
   "execution_count": 177,
   "metadata": {},
   "outputs": [
    {
     "data": {
      "text/plain": [
       "tensor([[ 0.6374,  0.0199, -0.7523],\n",
       "        [-0.6588,  0.4123, -0.2001],\n",
       "        [ 0.6374,  0.0199, -0.7523],\n",
       "        [-0.6588,  0.4123, -0.2001],\n",
       "        [ 0.6374,  0.0199, -0.7523],\n",
       "        [-0.6588,  0.4123, -0.2001]])"
      ]
     },
     "execution_count": 177,
     "metadata": {},
     "output_type": "execute_result"
    }
   ],
   "source": [
    "torch.cat((x, x, x), 0)"
   ]
  },
  {
   "cell_type": "code",
   "execution_count": 178,
   "metadata": {},
   "outputs": [
    {
     "data": {
      "text/plain": [
       "tensor([[ 0.6374,  0.0199, -0.7523,  0.6374,  0.0199, -0.7523,  0.6374,  0.0199,\n",
       "         -0.7523],\n",
       "        [-0.6588,  0.4123, -0.2001, -0.6588,  0.4123, -0.2001, -0.6588,  0.4123,\n",
       "         -0.2001]])"
      ]
     },
     "execution_count": 178,
     "metadata": {},
     "output_type": "execute_result"
    }
   ],
   "source": [
    "torch.cat((x, x, x), 1)"
   ]
  },
  {
   "cell_type": "code",
   "execution_count": 179,
   "metadata": {},
   "outputs": [],
   "source": [
    "x = torch.FloatTensor([[1, 2, 3], [4, 5, 6], [7, 8, 9]])\n",
    "y = torch.FloatTensor([[10, 11, 12], [13, 14, 15], [16, 17, 18]])"
   ]
  },
  {
   "cell_type": "code",
   "execution_count": 180,
   "metadata": {},
   "outputs": [
    {
     "name": "stdout",
     "output_type": "stream",
     "text": [
      "torch.Size([3, 3]) torch.Size([3, 3])\n"
     ]
    }
   ],
   "source": [
    "print(x.size(), y.size())"
   ]
  },
  {
   "cell_type": "code",
   "execution_count": null,
   "metadata": {},
   "outputs": [],
   "source": []
  },
  {
   "cell_type": "code",
   "execution_count": 181,
   "metadata": {},
   "outputs": [],
   "source": [
    "z = torch.stack([x, y])"
   ]
  },
  {
   "cell_type": "code",
   "execution_count": 182,
   "metadata": {},
   "outputs": [
    {
     "data": {
      "text/plain": [
       "tensor([[[ 1.,  2.,  3.],\n",
       "         [ 4.,  5.,  6.],\n",
       "         [ 7.,  8.,  9.]],\n",
       "\n",
       "        [[10., 11., 12.],\n",
       "         [13., 14., 15.],\n",
       "         [16., 17., 18.]]])"
      ]
     },
     "execution_count": 182,
     "metadata": {},
     "output_type": "execute_result"
    }
   ],
   "source": [
    "z"
   ]
  },
  {
   "cell_type": "code",
   "execution_count": 183,
   "metadata": {},
   "outputs": [
    {
     "data": {
      "text/plain": [
       "torch.Size([2, 3, 3])"
      ]
     },
     "execution_count": 183,
     "metadata": {},
     "output_type": "execute_result"
    }
   ],
   "source": [
    "z.size()"
   ]
  },
  {
   "cell_type": "code",
   "execution_count": 184,
   "metadata": {},
   "outputs": [],
   "source": [
    "#260쪽부터 기울기 소실과 활성 함수"
   ]
  },
  {
   "attachments": {},
   "cell_type": "markdown",
   "metadata": {},
   "source": [
    "learing rate : 학습률\n",
    "DNN : 심층신경망(linear layer 여러개 쌓고 활성함수를 이용하여 구성)\n",
    "Chain Rule : 연쇄법칙 -> 역전파 학습"
   ]
  },
  {
   "attachments": {},
   "cell_type": "markdown",
   "metadata": {},
   "source": [
    "#딥러닝 회귀 실습"
   ]
  },
  {
   "cell_type": "code",
   "execution_count": 185,
   "metadata": {},
   "outputs": [
    {
     "name": "stderr",
     "output_type": "stream",
     "text": [
      "c:\\Users\\mu070\\anaconda3\\lib\\site-packages\\sklearn\\utils\\deprecation.py:87: FutureWarning: Function load_boston is deprecated; `load_boston` is deprecated in 1.0 and will be removed in 1.2.\n",
      "\n",
      "    The Boston housing prices dataset has an ethical problem. You can refer to\n",
      "    the documentation of this function for further details.\n",
      "\n",
      "    The scikit-learn maintainers therefore strongly discourage the use of this\n",
      "    dataset unless the purpose of the code is to study and educate about\n",
      "    ethical issues in data science and machine learning.\n",
      "\n",
      "    In this special case, you can fetch the dataset from the original\n",
      "    source::\n",
      "\n",
      "        import pandas as pd\n",
      "        import numpy as np\n",
      "\n",
      "\n",
      "        data_url = \"http://lib.stat.cmu.edu/datasets/boston\"\n",
      "        raw_df = pd.read_csv(data_url, sep=\"\\s+\", skiprows=22, header=None)\n",
      "        data = np.hstack([raw_df.values[::2, :], raw_df.values[1::2, :2]])\n",
      "        target = raw_df.values[1::2, 2]\n",
      "\n",
      "    Alternative datasets include the California housing dataset (i.e.\n",
      "    :func:`~sklearn.datasets.fetch_california_housing`) and the Ames housing\n",
      "    dataset. You can load the datasets as follows::\n",
      "\n",
      "        from sklearn.datasets import fetch_california_housing\n",
      "        housing = fetch_california_housing()\n",
      "\n",
      "    for the California housing dataset and::\n",
      "\n",
      "        from sklearn.datasets import fetch_openml\n",
      "        housing = fetch_openml(name=\"house_prices\", as_frame=True)\n",
      "\n",
      "    for the Ames housing dataset.\n",
      "    \n",
      "  warnings.warn(msg, category=FutureWarning)\n"
     ]
    }
   ],
   "source": [
    "from sklearn.datasets import load_boston\n",
    "boston_house = load_boston()"
   ]
  },
  {
   "cell_type": "code",
   "execution_count": 186,
   "metadata": {},
   "outputs": [
    {
     "data": {
      "text/html": [
       "<div>\n",
       "<style scoped>\n",
       "    .dataframe tbody tr th:only-of-type {\n",
       "        vertical-align: middle;\n",
       "    }\n",
       "\n",
       "    .dataframe tbody tr th {\n",
       "        vertical-align: top;\n",
       "    }\n",
       "\n",
       "    .dataframe thead th {\n",
       "        text-align: right;\n",
       "    }\n",
       "</style>\n",
       "<table border=\"1\" class=\"dataframe\">\n",
       "  <thead>\n",
       "    <tr style=\"text-align: right;\">\n",
       "      <th></th>\n",
       "      <th>CRIM</th>\n",
       "      <th>ZN</th>\n",
       "      <th>INDUS</th>\n",
       "      <th>CHAS</th>\n",
       "      <th>NOX</th>\n",
       "      <th>RM</th>\n",
       "      <th>AGE</th>\n",
       "      <th>DIS</th>\n",
       "      <th>RAD</th>\n",
       "      <th>TAX</th>\n",
       "      <th>PTRATIO</th>\n",
       "      <th>B</th>\n",
       "      <th>LSTAT</th>\n",
       "      <th>TARGET</th>\n",
       "    </tr>\n",
       "  </thead>\n",
       "  <tbody>\n",
       "    <tr>\n",
       "      <th>0</th>\n",
       "      <td>-0.419782</td>\n",
       "      <td>0.284830</td>\n",
       "      <td>-1.287909</td>\n",
       "      <td>-0.272599</td>\n",
       "      <td>-0.144217</td>\n",
       "      <td>0.413672</td>\n",
       "      <td>-0.120013</td>\n",
       "      <td>0.140214</td>\n",
       "      <td>-0.982843</td>\n",
       "      <td>-0.666608</td>\n",
       "      <td>-1.459000</td>\n",
       "      <td>0.441052</td>\n",
       "      <td>-1.075562</td>\n",
       "      <td>24.0</td>\n",
       "    </tr>\n",
       "    <tr>\n",
       "      <th>1</th>\n",
       "      <td>-0.417339</td>\n",
       "      <td>-0.487722</td>\n",
       "      <td>-0.593381</td>\n",
       "      <td>-0.272599</td>\n",
       "      <td>-0.740262</td>\n",
       "      <td>0.194274</td>\n",
       "      <td>0.367166</td>\n",
       "      <td>0.557160</td>\n",
       "      <td>-0.867883</td>\n",
       "      <td>-0.987329</td>\n",
       "      <td>-0.303094</td>\n",
       "      <td>0.441052</td>\n",
       "      <td>-0.492439</td>\n",
       "      <td>21.6</td>\n",
       "    </tr>\n",
       "    <tr>\n",
       "      <th>2</th>\n",
       "      <td>-0.417342</td>\n",
       "      <td>-0.487722</td>\n",
       "      <td>-0.593381</td>\n",
       "      <td>-0.272599</td>\n",
       "      <td>-0.740262</td>\n",
       "      <td>1.282714</td>\n",
       "      <td>-0.265812</td>\n",
       "      <td>0.557160</td>\n",
       "      <td>-0.867883</td>\n",
       "      <td>-0.987329</td>\n",
       "      <td>-0.303094</td>\n",
       "      <td>0.396427</td>\n",
       "      <td>-1.208727</td>\n",
       "      <td>34.7</td>\n",
       "    </tr>\n",
       "    <tr>\n",
       "      <th>3</th>\n",
       "      <td>-0.416750</td>\n",
       "      <td>-0.487722</td>\n",
       "      <td>-1.306878</td>\n",
       "      <td>-0.272599</td>\n",
       "      <td>-0.835284</td>\n",
       "      <td>1.016303</td>\n",
       "      <td>-0.809889</td>\n",
       "      <td>1.077737</td>\n",
       "      <td>-0.752922</td>\n",
       "      <td>-1.106115</td>\n",
       "      <td>0.113032</td>\n",
       "      <td>0.416163</td>\n",
       "      <td>-1.361517</td>\n",
       "      <td>33.4</td>\n",
       "    </tr>\n",
       "    <tr>\n",
       "      <th>4</th>\n",
       "      <td>-0.412482</td>\n",
       "      <td>-0.487722</td>\n",
       "      <td>-1.306878</td>\n",
       "      <td>-0.272599</td>\n",
       "      <td>-0.835284</td>\n",
       "      <td>1.228577</td>\n",
       "      <td>-0.511180</td>\n",
       "      <td>1.077737</td>\n",
       "      <td>-0.752922</td>\n",
       "      <td>-1.106115</td>\n",
       "      <td>0.113032</td>\n",
       "      <td>0.441052</td>\n",
       "      <td>-1.026501</td>\n",
       "      <td>36.2</td>\n",
       "    </tr>\n",
       "    <tr>\n",
       "      <th>...</th>\n",
       "      <td>...</td>\n",
       "      <td>...</td>\n",
       "      <td>...</td>\n",
       "      <td>...</td>\n",
       "      <td>...</td>\n",
       "      <td>...</td>\n",
       "      <td>...</td>\n",
       "      <td>...</td>\n",
       "      <td>...</td>\n",
       "      <td>...</td>\n",
       "      <td>...</td>\n",
       "      <td>...</td>\n",
       "      <td>...</td>\n",
       "      <td>...</td>\n",
       "    </tr>\n",
       "    <tr>\n",
       "      <th>501</th>\n",
       "      <td>-0.413229</td>\n",
       "      <td>-0.487722</td>\n",
       "      <td>0.115738</td>\n",
       "      <td>-0.272599</td>\n",
       "      <td>0.158124</td>\n",
       "      <td>0.439316</td>\n",
       "      <td>0.018673</td>\n",
       "      <td>-0.625796</td>\n",
       "      <td>-0.982843</td>\n",
       "      <td>-0.803212</td>\n",
       "      <td>1.176466</td>\n",
       "      <td>0.387217</td>\n",
       "      <td>-0.418147</td>\n",
       "      <td>22.4</td>\n",
       "    </tr>\n",
       "    <tr>\n",
       "      <th>502</th>\n",
       "      <td>-0.415249</td>\n",
       "      <td>-0.487722</td>\n",
       "      <td>0.115738</td>\n",
       "      <td>-0.272599</td>\n",
       "      <td>0.158124</td>\n",
       "      <td>-0.234548</td>\n",
       "      <td>0.288933</td>\n",
       "      <td>-0.716639</td>\n",
       "      <td>-0.982843</td>\n",
       "      <td>-0.803212</td>\n",
       "      <td>1.176466</td>\n",
       "      <td>0.441052</td>\n",
       "      <td>-0.500850</td>\n",
       "      <td>20.6</td>\n",
       "    </tr>\n",
       "    <tr>\n",
       "      <th>503</th>\n",
       "      <td>-0.413447</td>\n",
       "      <td>-0.487722</td>\n",
       "      <td>0.115738</td>\n",
       "      <td>-0.272599</td>\n",
       "      <td>0.158124</td>\n",
       "      <td>0.984960</td>\n",
       "      <td>0.797449</td>\n",
       "      <td>-0.773684</td>\n",
       "      <td>-0.982843</td>\n",
       "      <td>-0.803212</td>\n",
       "      <td>1.176466</td>\n",
       "      <td>0.441052</td>\n",
       "      <td>-0.983048</td>\n",
       "      <td>23.9</td>\n",
       "    </tr>\n",
       "    <tr>\n",
       "      <th>504</th>\n",
       "      <td>-0.407764</td>\n",
       "      <td>-0.487722</td>\n",
       "      <td>0.115738</td>\n",
       "      <td>-0.272599</td>\n",
       "      <td>0.158124</td>\n",
       "      <td>0.725672</td>\n",
       "      <td>0.736996</td>\n",
       "      <td>-0.668437</td>\n",
       "      <td>-0.982843</td>\n",
       "      <td>-0.803212</td>\n",
       "      <td>1.176466</td>\n",
       "      <td>0.403225</td>\n",
       "      <td>-0.865302</td>\n",
       "      <td>22.0</td>\n",
       "    </tr>\n",
       "    <tr>\n",
       "      <th>505</th>\n",
       "      <td>-0.415000</td>\n",
       "      <td>-0.487722</td>\n",
       "      <td>0.115738</td>\n",
       "      <td>-0.272599</td>\n",
       "      <td>0.158124</td>\n",
       "      <td>-0.362767</td>\n",
       "      <td>0.434732</td>\n",
       "      <td>-0.613246</td>\n",
       "      <td>-0.982843</td>\n",
       "      <td>-0.803212</td>\n",
       "      <td>1.176466</td>\n",
       "      <td>0.441052</td>\n",
       "      <td>-0.669058</td>\n",
       "      <td>11.9</td>\n",
       "    </tr>\n",
       "  </tbody>\n",
       "</table>\n",
       "<p>506 rows × 14 columns</p>\n",
       "</div>"
      ],
      "text/plain": [
       "         CRIM        ZN     INDUS      CHAS       NOX        RM       AGE  \\\n",
       "0   -0.419782  0.284830 -1.287909 -0.272599 -0.144217  0.413672 -0.120013   \n",
       "1   -0.417339 -0.487722 -0.593381 -0.272599 -0.740262  0.194274  0.367166   \n",
       "2   -0.417342 -0.487722 -0.593381 -0.272599 -0.740262  1.282714 -0.265812   \n",
       "3   -0.416750 -0.487722 -1.306878 -0.272599 -0.835284  1.016303 -0.809889   \n",
       "4   -0.412482 -0.487722 -1.306878 -0.272599 -0.835284  1.228577 -0.511180   \n",
       "..        ...       ...       ...       ...       ...       ...       ...   \n",
       "501 -0.413229 -0.487722  0.115738 -0.272599  0.158124  0.439316  0.018673   \n",
       "502 -0.415249 -0.487722  0.115738 -0.272599  0.158124 -0.234548  0.288933   \n",
       "503 -0.413447 -0.487722  0.115738 -0.272599  0.158124  0.984960  0.797449   \n",
       "504 -0.407764 -0.487722  0.115738 -0.272599  0.158124  0.725672  0.736996   \n",
       "505 -0.415000 -0.487722  0.115738 -0.272599  0.158124 -0.362767  0.434732   \n",
       "\n",
       "          DIS       RAD       TAX   PTRATIO         B     LSTAT  TARGET  \n",
       "0    0.140214 -0.982843 -0.666608 -1.459000  0.441052 -1.075562    24.0  \n",
       "1    0.557160 -0.867883 -0.987329 -0.303094  0.441052 -0.492439    21.6  \n",
       "2    0.557160 -0.867883 -0.987329 -0.303094  0.396427 -1.208727    34.7  \n",
       "3    1.077737 -0.752922 -1.106115  0.113032  0.416163 -1.361517    33.4  \n",
       "4    1.077737 -0.752922 -1.106115  0.113032  0.441052 -1.026501    36.2  \n",
       "..        ...       ...       ...       ...       ...       ...     ...  \n",
       "501 -0.625796 -0.982843 -0.803212  1.176466  0.387217 -0.418147    22.4  \n",
       "502 -0.716639 -0.982843 -0.803212  1.176466  0.441052 -0.500850    20.6  \n",
       "503 -0.773684 -0.982843 -0.803212  1.176466  0.441052 -0.983048    23.9  \n",
       "504 -0.668437 -0.982843 -0.803212  1.176466  0.403225 -0.865302    22.0  \n",
       "505 -0.613246 -0.982843 -0.803212  1.176466  0.441052 -0.669058    11.9  \n",
       "\n",
       "[506 rows x 14 columns]"
      ]
     },
     "execution_count": 186,
     "metadata": {},
     "output_type": "execute_result"
    }
   ],
   "source": [
    "import pandas as pd\n",
    "from sklearn.preprocessing import StandardScaler\n",
    "\n",
    "df = pd.DataFrame(boston_house.data, columns=boston_house.feature_names)\n",
    "\n",
    "# 데이터 정규화\n",
    "scaler = StandardScaler()\n",
    "scaler.fit(df.values[:,:])\n",
    "df.values[:,:] = scaler.transform(df.values[:,:])\n",
    "\n",
    "# 타겟 변수를 마지막에 추가하기\n",
    "df['TARGET'] = boston_house.target\n",
    "df"
   ]
  },
  {
   "cell_type": "code",
   "execution_count": 187,
   "metadata": {},
   "outputs": [
    {
     "name": "stdout",
     "output_type": "stream",
     "text": [
      "torch.Size([506, 13]) torch.Size([506, 1])\n",
      "Train: 303, Valid: 101, Test: 102 samples.\n",
      "torch.Size([303, 13]) torch.Size([303, 1])\n",
      "torch.Size([101, 13]) torch.Size([101, 1])\n",
      "torch.Size([102, 13]) torch.Size([102, 1])\n"
     ]
    }
   ],
   "source": [
    "import torch\n",
    "\n",
    "data_numpy = torch.from_numpy(df.values).float()\n",
    "\n",
    "x = data_numpy[:, :-1] # 독립 변수\n",
    "y = data_numpy[:, -1:] # 타겟 변수\n",
    "print(x.shape, y.shape)\n",
    "\n",
    "# Train / Validation / Test 분할 비율\n",
    "split_ratio = [0.6, 0.2, 0.2]\n",
    "\n",
    "# 분할 데이터별 필요한 데이터 수 설정\n",
    "train_cnt = int(data_numpy.size(0) * split_ratio[0])\n",
    "valid_cnt = int(data_numpy.size(0) * split_ratio[1])\n",
    "test_cnt = data_numpy.size(0) - train_cnt - valid_cnt\n",
    "cnts = [train_cnt, valid_cnt, test_cnt]\n",
    "\n",
    "# 분할 결과를 확인하기 위해 화면에 출력\n",
    "print(\"Train: {}, Valid: {}, Test: {} samples.\".format(\n",
    "                                train_cnt, \n",
    "                                valid_cnt, \n",
    "                                test_cnt)\n",
    "     )\n",
    "\n",
    "### 랜덤하게 데이터를 추출하여 Train / Validation / Test 구성 ###\n",
    "\n",
    "# 데이터 갯수 만큼 랜덤하게 인덱스 번호 생성\n",
    "indices = torch.randperm(data_numpy.size(0))\n",
    "\n",
    "# 독립변수(x)와 타겟변수(y)로부터 랜덤하게 생성한 인덱스(indices) 순서대로 추출\n",
    "x = torch.index_select(x, dim=0, index=indices)\n",
    "y = torch.index_select(y, dim=0, index=indices)\n",
    "\n",
    "# Train / Validation / Test 분할 비율에 맞게 데이터 분할\n",
    "x = x.split(cnts, dim=0)\n",
    "y = y.split(cnts, dim=0)\n",
    "\n",
    "# 분할된 데이터셋 크기 확인\n",
    "for x_i, y_i in zip(x, y):\n",
    "    print(x_i.size(), y_i.size())"
   ]
  },
  {
   "attachments": {},
   "cell_type": "markdown",
   "metadata": {},
   "source": [
    "#학습 모델 구축"
   ]
  },
  {
   "cell_type": "code",
   "execution_count": 188,
   "metadata": {},
   "outputs": [],
   "source": [
    "import torch.nn as nn\n",
    "import torch.nn.functional as F\n",
    "import torch.optim as optim\n",
    "\n",
    "# 딥러닝 모델 생성 1. Pytorch의 nn.Module 활용하는 방법\n",
    "class MyModel(nn.Module):\n",
    "    \n",
    "    def __init__(self, input_dim, output_dim):\n",
    "        self.input_dim = input_dim # 입력 차원\n",
    "        self.output_dim = output_dim # 출력 차원\n",
    "        \n",
    "        super().__init__() # 부모 클래스 __init__ 보호\n",
    "        \n",
    "        # 은닉층(Hidden Layer) 설계\n",
    "        self.linear1 = nn.Linear(input_dim, 32)\n",
    "        self.linear2 = nn.Linear(32, 16)\n",
    "        self.linear3 = nn.Linear(16, 8)\n",
    "        self.linear4 = nn.Linear(8, 4)\n",
    "        self.linear5 = nn.Linear(4, output_dim)\n",
    "        self.act = nn.ReLU()\n",
    "        \n",
    "    def forward(self, x):\n",
    "        \n",
    "        # 객체 호출 시 입력 텐서 크기: |x| = (batch_size, input_dim)\n",
    "        h = self.act(self.linear1(x)) # |h| = (batch_size, 32)\n",
    "        h = self.act(self.linear2(h))\n",
    "        h = self.act(self.linear3(h))\n",
    "        h = self.act(self.linear4(h))\n",
    "        y = self.linear5(h)\n",
    "        # 출력텐서 크기: |y| = (batch_size, output_dim)\n",
    "        \n",
    "        # 구축된 신경망 반환(return)\n",
    "        return y"
   ]
  },
  {
   "cell_type": "code",
   "execution_count": 19,
   "metadata": {},
   "outputs": [],
   "source": [
    "# 학습 모델 저장을 위한 deepcopy 라이브러리 임포트\n",
    "from copy import deepcopy\n",
    "\n",
    "def train(\n",
    "    model, # 신경망 모델\n",
    "    x, # 학습데이트\n",
    "    y, # 예측값(정답)\n",
    "    loss_func, # 손실함수\n",
    "    lr=1e-4, # 학습률\n",
    "    n_epochs=100, # Epoch 수행 횟수\n",
    "    batch_size=32, # 미니배치 크기\n",
    "    print_interval=1000, # 학습결과를 출력하는 간격\n",
    "):\n",
    "\n",
    "    lowest_loss = np.inf\n",
    "    best_model = None\n",
    "    optimizer = optim.SGD(model.parameters(), lr=lr)\n",
    "    \n",
    "    # GPU 사용이 가능할 경우 사용, 불가능할 경우 CPU 사용\n",
    "    device = torch.device('cpu')\n",
    "    if torch.cuda.is_available():\n",
    "        print('cuda available')\n",
    "        device = torch.device('cuda')\n",
    "    \n",
    "    # 학습 시작 전 모든 값을 지정된 Device로 이동\n",
    "    model = model.to(device)\n",
    "    x = [x_i.to(device) for x_i in x]\n",
    "    y = [y_i.to(device) for y_i in y]\n",
    "    \n",
    "    ### 학습 및 검증 시작 ###\n",
    "    # 학습 진행상태(Loss)를 시각화하기 위한 List todtjd\n",
    "    train_history = []\n",
    "    valid_history = []\n",
    "    \n",
    "    ### Epoch 시작 ###\n",
    "    for epoch_index in range(n_epochs):\n",
    "        \n",
    "        '''\n",
    "        우리 예제의 경우 텐서 형태\n",
    "        x[0]: x_1, y_1 -> torch.Size([303, 13]) torch.Size([303, 1])\n",
    "        x[1]: x_2, y_2 -> torch.Size([101, 13]) torch.Size([101, 1])\n",
    "        x[2]: x_3, y_3 -> torch.Size([102, 13]) torch.Size([102, 1])\n",
    "        '''\n",
    "        \n",
    "        train_x, train_y = x[0], y[0]\n",
    "        valid_x, valid_y = x[1], y[1]\n",
    "        test_x, test_y = x[2], y[2]\n",
    "        \n",
    "        # 미니배치 만들기 x[0], y[0] --> train set\n",
    "        indices= torch.randperm(train_x.size(0), device=train_x.device)\n",
    "        train_x = torch.index_select(train_x, dim=0, index=indices)\n",
    "        train_y = torch.index_select(train_y, dim=0, index=indices)\n",
    "        train_x_batch = torch.split(train_x, batch_size, dim=0)\n",
    "        train_y_batch = torch.split(train_y, batch_size, dim=0)\n",
    "        \n",
    "        # 개별 |train_x_batch| = (batch_size, input_dim)\n",
    "\n",
    "        ### Train 데이터 학습 시작 ###\n",
    "        model.train() # 학습모드 On\n",
    "        total_loss_train = 0\n",
    "        for batch_index in range(len(train_x_batch)):\n",
    "            \n",
    "            # 텐서 형태\n",
    "            # |x_i| = (batch_size, 13)\n",
    "            # |y_i| = (batch_size, 1)\n",
    "            \n",
    "            # 전진(forward) 학습 \n",
    "            y_hat = model(train_x_batch[batch_index])\n",
    "\n",
    "            # 손실값 계산\n",
    "            loss = loss_func(y_hat, train_y_batch[batch_index])\n",
    "\n",
    "            # 미분 수행 (back propagation)\n",
    "            optimizer.zero_grad() # 기존 미분값이 있다면 초기화\n",
    "            loss.backward()\n",
    "        \n",
    "            # Stochastic Gradient Descent 수행\n",
    "            optimizer.step()\n",
    "            \n",
    "            # Total Loss 업데이트\n",
    "            total_loss_train += float(loss) \n",
    "        \n",
    "        # 최종 Train Loss 계산 -> Train 종료\n",
    "        train_loss = total_loss_train / len(train_x_batch)\n",
    "        \n",
    "        ### Validation 시작 ###\n",
    "        model.eval() # 학습모드 off\n",
    "        with torch.no_grad():\n",
    "            y_hat = model(valid_x)\n",
    "            loss = loss_func(y_hat, valid_y)\n",
    "            valid_loss = loss / len(valid_y)\n",
    "\n",
    "        # Valid Loss를 확인하여 모델을 저장\n",
    "        if valid_loss <= lowest_loss:\n",
    "            lowest_loss = valid_loss\n",
    "            best_model = deepcopy(model.state_dict())\n",
    "            torch.save(\n",
    "                {\n",
    "                    'model': best_model,\n",
    "                    'n_epochs': n_epochs,\n",
    "                    'batch_size': batch_size,\n",
    "                    'lr': lr,\n",
    "                    'optimizer': 'SGD',\n",
    "                }, \n",
    "                'model_regression.pth'\n",
    "            )\n",
    "            \n",
    "        # 1회 epoch 종료 후 Loss 출력\n",
    "        if (epoch_index + 1) % print_interval == 0:\n",
    "            print(\n",
    "                'Epoch({0:2d}/{1:2d}): train_loss={2:8.6f}  valid_loss={3:8.6f}  lowest_loss={4:8.6f}'.format(\n",
    "                    epoch_index+1, \n",
    "                    n_epochs,\n",
    "                    train_loss,\n",
    "                    valid_loss,\n",
    "                    lowest_loss,               \n",
    "                )\n",
    "            )"
   ]
  },
  {
   "cell_type": "code",
   "execution_count": 190,
   "metadata": {},
   "outputs": [
    {
     "name": "stdout",
     "output_type": "stream",
     "text": [
      "Sequential(\n",
      "  (0): Linear(in_features=13, out_features=5, bias=True)\n",
      "  (1): LeakyReLU(negative_slope=0.01)\n",
      "  (2): Linear(in_features=5, out_features=5, bias=True)\n",
      "  (3): LeakyReLU(negative_slope=0.01)\n",
      "  (4): Linear(in_features=5, out_features=5, bias=True)\n",
      "  (5): LeakyReLU(negative_slope=0.01)\n",
      "  (6): Linear(in_features=5, out_features=5, bias=True)\n",
      "  (7): LeakyReLU(negative_slope=0.01)\n",
      "  (8): Linear(in_features=5, out_features=5, bias=True)\n",
      "  (9): LeakyReLU(negative_slope=0.01)\n",
      "  (10): Linear(in_features=5, out_features=1, bias=True)\n",
      ")\n"
     ]
    }
   ],
   "source": [
    "# Pytorch의 nn.Sequential을 활용하는 방법\n",
    "input_dim = x[0].size(-1)\n",
    "ouput_dim = y[0].size(-1)\n",
    "model_sequential = nn.Sequential(\n",
    "    nn.Linear(input_dim, 5),\n",
    "    nn.LeakyReLU(),\n",
    "    nn.Linear(5, 5),\n",
    "    nn.LeakyReLU(),\n",
    "    nn.Linear(5, 5),\n",
    "    nn.LeakyReLU(),\n",
    "    nn.Linear(5, 5),\n",
    "    nn.LeakyReLU(),\n",
    "    nn.Linear(5, 5),\n",
    "    nn.LeakyReLU(),\n",
    "    nn.Linear(5, ouput_dim),\n",
    ")\n",
    "\n",
    "# 네트워크 형태 확인을 위해 화면에 모델을 출력\n",
    "print(model_sequential)"
   ]
  },
  {
   "cell_type": "code",
   "execution_count": 191,
   "metadata": {},
   "outputs": [],
   "source": [
    "# 하이퍼 파라미터\n",
    "batch_size = 32\n",
    "n_epochs = 100000\n",
    "print_interval = 1000\n",
    "learning_rate = 1e-4\n",
    "model_MyModel = MyModel(x[0].size(-1), y[0].size(-1))\n",
    "model_sequential\n",
    "loss_func = F.mse_loss"
   ]
  },
  {
   "cell_type": "code",
   "execution_count": 192,
   "metadata": {},
   "outputs": [
    {
     "name": "stdout",
     "output_type": "stream",
     "text": [
      "Epoch(1000/100000): train_loss=4.097119  valid_loss=0.083511  lowest_loss=0.077850\n",
      "Epoch(2000/100000): train_loss=1.963981  valid_loss=0.091046  lowest_loss=0.074327\n",
      "Epoch(3000/100000): train_loss=1.175807  valid_loss=0.096474  lowest_loss=0.074327\n",
      "Epoch(4000/100000): train_loss=0.769423  valid_loss=0.095720  lowest_loss=0.074327\n",
      "Epoch(5000/100000): train_loss=0.540923  valid_loss=0.091217  lowest_loss=0.074327\n",
      "Epoch(6000/100000): train_loss=0.441241  valid_loss=0.095778  lowest_loss=0.074327\n",
      "Epoch(7000/100000): train_loss=0.336937  valid_loss=0.100360  lowest_loss=0.074327\n",
      "Epoch(8000/100000): train_loss=0.310844  valid_loss=0.100063  lowest_loss=0.074327\n",
      "Epoch(9000/100000): train_loss=0.252171  valid_loss=0.104415  lowest_loss=0.074327\n",
      "Epoch(10000/100000): train_loss=0.227026  valid_loss=0.106917  lowest_loss=0.074327\n",
      "Epoch(11000/100000): train_loss=0.193291  valid_loss=0.110525  lowest_loss=0.074327\n",
      "Epoch(12000/100000): train_loss=0.173535  valid_loss=0.108406  lowest_loss=0.074327\n",
      "Epoch(13000/100000): train_loss=0.167671  valid_loss=0.115042  lowest_loss=0.074327\n",
      "Epoch(14000/100000): train_loss=0.155080  valid_loss=0.117144  lowest_loss=0.074327\n",
      "Epoch(15000/100000): train_loss=0.118854  valid_loss=0.121684  lowest_loss=0.074327\n",
      "Epoch(16000/100000): train_loss=0.111197  valid_loss=0.123074  lowest_loss=0.074327\n",
      "Epoch(17000/100000): train_loss=0.096819  valid_loss=0.129762  lowest_loss=0.074327\n",
      "Epoch(18000/100000): train_loss=0.080982  valid_loss=0.126770  lowest_loss=0.074327\n",
      "Epoch(19000/100000): train_loss=0.072995  valid_loss=0.134516  lowest_loss=0.074327\n",
      "Epoch(20000/100000): train_loss=0.074321  valid_loss=0.138694  lowest_loss=0.074327\n",
      "Epoch(21000/100000): train_loss=0.060034  valid_loss=0.139489  lowest_loss=0.074327\n"
     ]
    },
    {
     "ename": "KeyboardInterrupt",
     "evalue": "",
     "output_type": "error",
     "traceback": [
      "\u001b[1;31m---------------------------------------------------------------------------\u001b[0m",
      "\u001b[1;31mKeyboardInterrupt\u001b[0m                         Traceback (most recent call last)",
      "\u001b[1;32m~\\AppData\\Local\\Temp\\ipykernel_6604\\1589630256.py\u001b[0m in \u001b[0;36m<module>\u001b[1;34m\u001b[0m\n\u001b[1;32m----> 1\u001b[1;33m \u001b[0mtrain\u001b[0m\u001b[1;33m(\u001b[0m\u001b[0mmodel_MyModel\u001b[0m\u001b[1;33m,\u001b[0m \u001b[0mx\u001b[0m\u001b[1;33m,\u001b[0m \u001b[0my\u001b[0m\u001b[1;33m,\u001b[0m \u001b[0mloss_func\u001b[0m\u001b[1;33m,\u001b[0m \u001b[0mn_epochs\u001b[0m\u001b[1;33m=\u001b[0m\u001b[0mn_epochs\u001b[0m\u001b[1;33m,\u001b[0m \u001b[0mbatch_size\u001b[0m\u001b[1;33m=\u001b[0m\u001b[0mbatch_size\u001b[0m\u001b[1;33m,\u001b[0m \u001b[0mprint_interval\u001b[0m\u001b[1;33m=\u001b[0m\u001b[0mprint_interval\u001b[0m\u001b[1;33m)\u001b[0m\u001b[1;33m\u001b[0m\u001b[1;33m\u001b[0m\u001b[0m\n\u001b[0m",
      "\u001b[1;32m~\\AppData\\Local\\Temp\\ipykernel_6604\\2063596367.py\u001b[0m in \u001b[0;36mtrain\u001b[1;34m(model, x, y, loss_func, lr, n_epochs, batch_size, print_interval)\u001b[0m\n\u001b[0;32m     78\u001b[0m \u001b[1;33m\u001b[0m\u001b[0m\n\u001b[0;32m     79\u001b[0m             \u001b[1;31m# Total Loss 업데이트\u001b[0m\u001b[1;33m\u001b[0m\u001b[1;33m\u001b[0m\u001b[0m\n\u001b[1;32m---> 80\u001b[1;33m             \u001b[0mtotal_loss_train\u001b[0m \u001b[1;33m+=\u001b[0m \u001b[0mfloat\u001b[0m\u001b[1;33m(\u001b[0m\u001b[0mloss\u001b[0m\u001b[1;33m)\u001b[0m\u001b[1;33m\u001b[0m\u001b[1;33m\u001b[0m\u001b[0m\n\u001b[0m\u001b[0;32m     81\u001b[0m \u001b[1;33m\u001b[0m\u001b[0m\n\u001b[0;32m     82\u001b[0m         \u001b[1;31m# 최종 Train Loss 계산 -> Train 종료\u001b[0m\u001b[1;33m\u001b[0m\u001b[1;33m\u001b[0m\u001b[0m\n",
      "\u001b[1;31mKeyboardInterrupt\u001b[0m: "
     ]
    }
   ],
   "source": [
    "train(model_MyModel, x, y, loss_func, n_epochs=n_epochs, batch_size=batch_size, print_interval=print_interval)"
   ]
  },
  {
   "cell_type": "code",
   "execution_count": null,
   "metadata": {},
   "outputs": [],
   "source": [
    "# 데이터 평가\n",
    "# n_epochs = check_point['n_epochs']\n",
    "# batch_size = check_point['batch_size']\n",
    "# lr = check_point['lr']"
   ]
  },
  {
   "cell_type": "code",
   "execution_count": null,
   "metadata": {},
   "outputs": [
    {
     "data": {
      "text/plain": [
       "<All keys matched successfully>"
      ]
     },
     "execution_count": 95,
     "metadata": {},
     "output_type": "execute_result"
    }
   ],
   "source": [
    "# nn.Module을 상속받은 클래스를 이용하여 빈 모델 생성\n",
    "model = MyModel(x[0].size(-1), y[0].size(-1))\n",
    "\n",
    "# model.pth 파일 정보를 업로드하여 check_point 변수에 저장\n",
    "check_point = torch.load('./model_regression.pth')\n",
    "\n",
    "# model.pth에 저장된 학습 파라미터를 model에 업로드\n",
    "model.load_state_dict(check_point['model'])"
   ]
  },
  {
   "cell_type": "code",
   "execution_count": null,
   "metadata": {},
   "outputs": [
    {
     "name": "stdout",
     "output_type": "stream",
     "text": [
      "             y     y_hat\n",
      "0    16.799999  3.664303\n",
      "1    12.000000  3.705559\n",
      "2    20.799999  3.574140\n",
      "3    25.000000  3.210469\n",
      "4    15.000000  3.623512\n",
      "..         ...       ...\n",
      "97   23.299999  3.407598\n",
      "98   21.700001  3.703657\n",
      "99   18.000000  3.388644\n",
      "100  14.900000  3.519532\n",
      "101  24.400000  3.430435\n",
      "\n",
      "[102 rows x 2 columns]\n"
     ]
    }
   ],
   "source": [
    "# 예측값과 실제값을 표로 비교\n",
    "y_hat = model(x[2])\n",
    "y = y[2]\n",
    "df = pd.DataFrame(torch.cat([y, y_hat], dim=1).detach().numpy(),\n",
    "                  columns=[\"y\", \"y_hat\"])\n",
    "print(df)"
   ]
  },
  {
   "cell_type": "code",
   "execution_count": null,
   "metadata": {},
   "outputs": [
    {
     "data": {
      "image/png": "[encoded data removed]",
      "text/plain": [
       "<Figure size 1000x1000 with 6 Axes>"
      ]
     },
     "metadata": {},
     "output_type": "display_data"
    }
   ],
   "source": [
    "import seaborn as sns\n",
    "import matplotlib.pyplot as plt\n",
    "sns.pairplot(df, height=5)\n",
    "plt.show()"
   ]
  },
  {
   "cell_type": "code",
   "execution_count": null,
   "metadata": {},
   "outputs": [
    {
     "data": {
      "text/plain": [
       "<All keys matched successfully>"
      ]
     },
     "execution_count": 98,
     "metadata": {},
     "output_type": "execute_result"
    }
   ],
   "source": [
    "# 파라미터가 적재되지 않은 초기 모델 생성\n",
    "input_dim = x[0].size(-1)\n",
    "ouput_dim = y[0].size(-1)\n",
    "model_sequencial = nn.Sequential(\n",
    "    nn.Linear(input_dim, 5),\n",
    "    nn.LeakyReLU(),\n",
    "    nn.Linear(5, 5),\n",
    "    nn.LeakyReLU(),\n",
    "    nn.Linear(5, 5),\n",
    "    nn.LeakyReLU(),\n",
    "    nn.Linear(5, 5),\n",
    "    nn.LeakyReLU(),\n",
    "    nn.Linear(5, 5),\n",
    "    nn.LeakyReLU(),\n",
    "    nn.Linear(5, ouput_dim),\n",
    ")\n",
    "\n",
    "# 저장된 모델 파일을 이용하여 모델에 파라미터 적재\n",
    "model.load_state_dict(check_point['model'])"
   ]
  },
  {
   "cell_type": "code",
   "execution_count": null,
   "metadata": {},
   "outputs": [
    {
     "ename": "IndexError",
     "evalue": "index out of range in self",
     "output_type": "error",
     "traceback": [
      "\u001b[1;31m---------------------------------------------------------------------------\u001b[0m",
      "\u001b[1;31mIndexError\u001b[0m                                Traceback (most recent call last)",
      "\u001b[1;32m~\\AppData\\Local\\Temp\\ipykernel_6604\\2671244652.py\u001b[0m in \u001b[0;36m<module>\u001b[1;34m\u001b[0m\n\u001b[1;32m----> 1\u001b[1;33m \u001b[0mtrain\u001b[0m\u001b[1;33m(\u001b[0m\u001b[0mmodel_sequential\u001b[0m\u001b[1;33m,\u001b[0m \u001b[0mx\u001b[0m\u001b[1;33m,\u001b[0m \u001b[0my\u001b[0m\u001b[1;33m,\u001b[0m \u001b[0mloss_func\u001b[0m\u001b[1;33m,\u001b[0m \u001b[0mn_epochs\u001b[0m\u001b[1;33m=\u001b[0m\u001b[0mn_epochs\u001b[0m\u001b[1;33m,\u001b[0m \u001b[0mbatch_size\u001b[0m\u001b[1;33m=\u001b[0m\u001b[0mbatch_size\u001b[0m\u001b[1;33m,\u001b[0m \u001b[0mprint_interval\u001b[0m\u001b[1;33m=\u001b[0m\u001b[0mprint_interval\u001b[0m\u001b[1;33m)\u001b[0m\u001b[1;33m\u001b[0m\u001b[1;33m\u001b[0m\u001b[0m\n\u001b[0m",
      "\u001b[1;32m~\\AppData\\Local\\Temp\\ipykernel_6604\\2063596367.py\u001b[0m in \u001b[0;36mtrain\u001b[1;34m(model, x, y, loss_func, lr, n_epochs, batch_size, print_interval)\u001b[0m\n\u001b[0;32m     49\u001b[0m         \u001b[0mindices\u001b[0m\u001b[1;33m=\u001b[0m \u001b[0mtorch\u001b[0m\u001b[1;33m.\u001b[0m\u001b[0mrandperm\u001b[0m\u001b[1;33m(\u001b[0m\u001b[0mtrain_x\u001b[0m\u001b[1;33m.\u001b[0m\u001b[0msize\u001b[0m\u001b[1;33m(\u001b[0m\u001b[1;36m0\u001b[0m\u001b[1;33m)\u001b[0m\u001b[1;33m,\u001b[0m \u001b[0mdevice\u001b[0m\u001b[1;33m=\u001b[0m\u001b[0mtrain_x\u001b[0m\u001b[1;33m.\u001b[0m\u001b[0mdevice\u001b[0m\u001b[1;33m)\u001b[0m\u001b[1;33m\u001b[0m\u001b[1;33m\u001b[0m\u001b[0m\n\u001b[0;32m     50\u001b[0m         \u001b[0mtrain_x\u001b[0m \u001b[1;33m=\u001b[0m \u001b[0mtorch\u001b[0m\u001b[1;33m.\u001b[0m\u001b[0mindex_select\u001b[0m\u001b[1;33m(\u001b[0m\u001b[0mtrain_x\u001b[0m\u001b[1;33m,\u001b[0m \u001b[0mdim\u001b[0m\u001b[1;33m=\u001b[0m\u001b[1;36m0\u001b[0m\u001b[1;33m,\u001b[0m \u001b[0mindex\u001b[0m\u001b[1;33m=\u001b[0m\u001b[0mindices\u001b[0m\u001b[1;33m)\u001b[0m\u001b[1;33m\u001b[0m\u001b[1;33m\u001b[0m\u001b[0m\n\u001b[1;32m---> 51\u001b[1;33m         \u001b[0mtrain_y\u001b[0m \u001b[1;33m=\u001b[0m \u001b[0mtorch\u001b[0m\u001b[1;33m.\u001b[0m\u001b[0mindex_select\u001b[0m\u001b[1;33m(\u001b[0m\u001b[0mtrain_y\u001b[0m\u001b[1;33m,\u001b[0m \u001b[0mdim\u001b[0m\u001b[1;33m=\u001b[0m\u001b[1;36m0\u001b[0m\u001b[1;33m,\u001b[0m \u001b[0mindex\u001b[0m\u001b[1;33m=\u001b[0m\u001b[0mindices\u001b[0m\u001b[1;33m)\u001b[0m\u001b[1;33m\u001b[0m\u001b[1;33m\u001b[0m\u001b[0m\n\u001b[0m\u001b[0;32m     52\u001b[0m         \u001b[0mtrain_x_batch\u001b[0m \u001b[1;33m=\u001b[0m \u001b[0mtorch\u001b[0m\u001b[1;33m.\u001b[0m\u001b[0msplit\u001b[0m\u001b[1;33m(\u001b[0m\u001b[0mtrain_x\u001b[0m\u001b[1;33m,\u001b[0m \u001b[0mbatch_size\u001b[0m\u001b[1;33m,\u001b[0m \u001b[0mdim\u001b[0m\u001b[1;33m=\u001b[0m\u001b[1;36m0\u001b[0m\u001b[1;33m)\u001b[0m\u001b[1;33m\u001b[0m\u001b[1;33m\u001b[0m\u001b[0m\n\u001b[0;32m     53\u001b[0m         \u001b[0mtrain_y_batch\u001b[0m \u001b[1;33m=\u001b[0m \u001b[0mtorch\u001b[0m\u001b[1;33m.\u001b[0m\u001b[0msplit\u001b[0m\u001b[1;33m(\u001b[0m\u001b[0mtrain_y\u001b[0m\u001b[1;33m,\u001b[0m \u001b[0mbatch_size\u001b[0m\u001b[1;33m,\u001b[0m \u001b[0mdim\u001b[0m\u001b[1;33m=\u001b[0m\u001b[1;36m0\u001b[0m\u001b[1;33m)\u001b[0m\u001b[1;33m\u001b[0m\u001b[1;33m\u001b[0m\u001b[0m\n",
      "\u001b[1;31mIndexError\u001b[0m: index out of range in self"
     ]
    }
   ],
   "source": [
    "train(model_sequential, x, y, loss_func, n_epochs=n_epochs, batch_size=batch_size, print_interval=print_interval)"
   ]
  },
  {
   "attachments": {},
   "cell_type": "markdown",
   "metadata": {},
   "source": [
    "# DNN 구조의 분류 문제를 해결할 때\n",
    "\n",
    "회귀 : Sigmoid + MSE\n",
    "\n",
    "분류 : Softmax + CE\n",
    "\n",
    "분류 : Log-Softmax + NLL"
   ]
  },
  {
   "attachments": {},
   "cell_type": "markdown",
   "metadata": {},
   "source": [
    "True Positive(TP) : 실제 True인 정답을 True라고 예측(정답)\n",
    "\n",
    "False Positive(FP) : 실제 False인 정답을 True라고 예측(오답)\n",
    "\n",
    "False Negative(FN) : 실제 True인 정답을 False라고 예측(오답)\n",
    "\n",
    "True Negative(TN) : 실제 False인 정답을 False라고 예측(정답)\n",
    "\n",
    "Precision(정밀도) : TP / (TP + FP) --> 모델이 True라고 분류한 것 중 실제 True의 비율\n",
    "\n",
    "Recall(재현율) : TP / (TP + FN) --> 실제 True인 것 중에서 모델이 True라고 예측한 비율\n",
    "\n",
    "Precision과 recall은 Trade-off 관계이다\n",
    "\n",
    "Threshold(판단 기준), Criterion Range(판단 범위)\n",
    "\n",
    "F1 score --> 조화평균 : Precision과 recall의 조화평균(클수록 좋음)\n",
    "\n",
    "AUROC가 크면 분리를 더 잘하는 딥러닝 모델(1에 가까울수록 좋음)"
   ]
  },
  {
   "cell_type": "code",
   "execution_count": 3,
   "metadata": {},
   "outputs": [],
   "source": [
    "import numpy as np\n",
    "import matplotlib.pyplot as plt\n",
    "import pandas as pd\n",
    "\n",
    "import torch\n",
    "import torch.nn as nn\n",
    "import torch.nn.functional as F\n",
    "import torch.optim as optim\n",
    "\n",
    "from torchvision import datasets, transforms\n",
    "from copy import deepcopy\n",
    "from sklearn.metrics import confusion_matrix"
   ]
  },
  {
   "cell_type": "code",
   "execution_count": 4,
   "metadata": {},
   "outputs": [],
   "source": [
    "# Train 데이터셋 로딩\n",
    "train_data = datasets.MNIST(\n",
    "    root='./data', # 데이터셋을 저장할 경로, 이 경우 현재 위치에 data 폴더를 만들고 다운로드 수행\n",
    "    train=True,  # True이면 Train 데이터셋을 다운로드\n",
    "    download=True, # True일 경우 다운로드\n",
    "    transform=transforms.Compose( #어떤 형태로 데이터를 불러올 것인가. \n",
    "        [transforms.ToTensor(),]  # 일반 이미지는 0-255사이 값, (H, W, C) 형태\n",
    "    ),                            # pytorch: 0-1사이의 값을 가지고 (C, H, W)의 형태\n",
    ")\n",
    "\n",
    "# Test 데이터셋 로딩\n",
    "test_data = datasets.MNIST(\n",
    "    root='./data', \n",
    "    train=False,\n",
    "    transform=transforms.Compose(\n",
    "        [transforms.ToTensor(),]\n",
    "    ),\n",
    ")"
   ]
  },
  {
   "cell_type": "code",
   "execution_count": 5,
   "metadata": {},
   "outputs": [],
   "source": [
    "def show_img(x):\n",
    "    img = (np.array(x.detach().cpu(), dtype='float')).reshape(28,28)\n",
    "    plt.imshow(img, cmap='gray')\n",
    "    plt.show()"
   ]
  },
  {
   "cell_type": "code",
   "execution_count": 6,
   "metadata": {},
   "outputs": [
    {
     "data": {
      "image/png": "[encoded data removed]",
      "text/plain": [
       "<Figure size 640x480 with 1 Axes>"
      ]
     },
     "metadata": {},
     "output_type": "display_data"
    }
   ],
   "source": [
    "show_img(train_data.data[0]) # Train 데이터넷 1번째 이미지 확인"
   ]
  },
  {
   "cell_type": "code",
   "execution_count": 7,
   "metadata": {},
   "outputs": [],
   "source": [
    "def norm_and_resize(img):\n",
    "    img = img.float() / 255.0 # 0 ~ 255 -> 0 ~ 1사이의 값으로 변환\n",
    "    img = img.view(img.size(0), -1) # 28 * 28 픽셀 -> 1 * 784 픽셀\n",
    "    return img"
   ]
  },
  {
   "cell_type": "code",
   "execution_count": 8,
   "metadata": {},
   "outputs": [],
   "source": [
    "def make_train_valid_test(ratio, train, test):\n",
    "    \n",
    "    ### Split train dataset -> train / valid ###\n",
    "    \n",
    "    # Train / valid 데이터셋에 필요한 숫자 계산\n",
    "    train_cnt = int(train.data.size(0) * ratio[0])\n",
    "    valid_cnt = int(train.data.size(0) * ratio[1])\n",
    "    cnts = [train_cnt, valid_cnt]\n",
    "    \n",
    "    # Train -> 랜덤추출하여 train / valid 구성\n",
    "    indices = torch.randperm(train.data.size(0))\n",
    "    train_x = torch.index_select(train.data, dim=0, index=indices)\n",
    "    train_y = torch.index_select(train.targets, dim=0, index=indices)\n",
    "    \n",
    "    train_x, valid_x = train_x.split(cnts, dim=0)\n",
    "    train_y, valid_y = train_y.split(cnts, dim=0)\n",
    "    test_x, test_y = test.data, test.targets\n",
    "    \n",
    "    # 데이터 Normalize & (batch_size, H*W)로 텐서크기 변환\n",
    "    train_x = norm_and_resize(train_x)\n",
    "    valid_x = norm_and_resize(valid_x)\n",
    "    test_x =  norm_and_resize(test_x)\n",
    "\n",
    "    # train, valid, test 데이터셋을 하나로 묶어주기\n",
    "    x = [train_x, valid_x, test_x]\n",
    "    y = [train_y, valid_y, test_y]\n",
    "    \n",
    "    # train, valid, test 데이터셋 형태를 모니터로 확인\n",
    "    for x_i, y_i in zip(x, y):\n",
    "        print(x_i.size(), y_i.size())\n",
    "        \n",
    "    # 결괏값을 튜플로 리턴\n",
    "    return x, y"
   ]
  },
  {
   "cell_type": "code",
   "execution_count": 9,
   "metadata": {},
   "outputs": [],
   "source": [
    "# 딥러닝 모델 생성 -> Pytorch의 nn.Module 활용\n",
    "class MyModel(nn.Module):\n",
    "    \n",
    "    def __init__(self, input_dim, output_dim):\n",
    "        self.input_dim = input_dim # 입력 차원\n",
    "        self.output_dim = output_dim # 출력 차원\n",
    "        \n",
    "        super().__init__() # 부모 클래스 __init__ 보호\n",
    "        \n",
    "        # 은닉층(Hidden Layer) 설계\n",
    "        self.linear1 = nn.Linear(input_dim, 500)\n",
    "        self.linear2 = nn.Linear(500, 400)\n",
    "        self.linear3 = nn.Linear(400, 300)\n",
    "        self.linear4 = nn.Linear(300, 200)\n",
    "        self.linear5 = nn.Linear(200, 100)\n",
    "        self.linear6 = nn.Linear(100, 50)\n",
    "        self.linear7 = nn.Linear(50, output_dim)\n",
    "        #self.act = nn.ReLU()\n",
    "        self.act = nn.LeakyReLU() # LeakyReLU 사용\n",
    "        self.logsoftmax = nn.LogSoftmax(dim=-1)\n",
    "        \n",
    "    def forward(self, x):\n",
    "        \n",
    "        # 객체 호출 시 입력 텐서 크기: |x| = (batch_size, input_dim)\n",
    "        h = self.act(self.linear1(x)) # |h| = (batch_size, 32)\n",
    "        h = self.act(self.linear2(h))\n",
    "        h = self.act(self.linear3(h))\n",
    "        h = self.act(self.linear4(h))\n",
    "        h = self.act(self.linear5(h))\n",
    "        h = self.act(self.linear6(h))\n",
    "        y = self.logsoftmax(self.linear7(h))\n",
    "        # 출력텐서 크기: |y| = (batch_size, output_dim)\n",
    "        \n",
    "        # 결괏값 반환(return)\n",
    "        return y"
   ]
  },
  {
   "cell_type": "code",
   "execution_count": 10,
   "metadata": {},
   "outputs": [],
   "source": [
    "# 학습 모델 저장을 위한 deepcopy 라이브러리 임포트\n",
    "from copy import deepcopy\n",
    "\n",
    "def train(\n",
    "    model,     # 신경망 모델\n",
    "    x,         # 학습데이터\n",
    "    y,         # 예측값(정답)\n",
    "    crit,      # 손실함수\n",
    "    lr=1e-4,   # 학습률\n",
    "    n_epochs=100,  # Epoch 수행 횟수\n",
    "    batch_size=32, # 미니배치 크기\n",
    "    print_interval=1000, # 학습결과를 출력하는 간격\n",
    "    early_stop=100,      # 학습 Loss가 n회 연속 떨어지지 않는 경우 종료\n",
    "    model_fn='model.pth' # 종료된 학습 파라미터가 저장될 파일 이름\n",
    "):\n",
    "\n",
    "    print(model) # Model 구조를 확인하기 위한 출력\n",
    "    lowest_loss = np.inf # 최소 Loss를 비교하기 위한 초깃값 -> 무한대로 설정\n",
    "    lowest_epoch = np.inf\n",
    "    best_model = None\n",
    "    \n",
    "    #optimizer = optim.SGD(model.parameters(), lr=lr)\n",
    "    optimizer = optim.Adam(model.parameters())\n",
    "    \n",
    "    # GPU 사용 가능할 경우 사용, 불가능할 경우 CPU 사용\n",
    "    device = torch.device('cpu')\n",
    "    if torch.cuda.is_available():\n",
    "        device = torch.device('cuda')\n",
    "    \n",
    "    model = model.to(device)\n",
    "    x = [x_i.to(device) for x_i in x]\n",
    "    y = [y_i.to(device) for y_i in y]\n",
    "    \n",
    "    ### Epoch ###\n",
    "    \n",
    "    # train, valid loss 변경 이력 저장을 위한 리스트 생성\n",
    "    train_history = []\n",
    "    valid_history = []\n",
    "    \n",
    "    # epoch 시작\n",
    "    for epoch_index in range(n_epochs):\n",
    "        \n",
    "        train_x, train_y = x[0], y[0]\n",
    "        valid_x, valid_y = x[1], y[1]\n",
    "        test_x, test_y = x[2], y[2]\n",
    "        \n",
    "        # 미니배치 만들기 x[0], y[0] --> train set\n",
    "        indices= torch.randperm(train_x.size(0), device=train_x.device)\n",
    "        indices = torch.randperm(train_x.size(0)).to(device)\n",
    "        \n",
    "        train_x = torch.index_select(train_x, dim=0, index=indices)\n",
    "        train_y = torch.index_select(train_y, dim=0, index=indices)\n",
    "        \n",
    "        train_x_batch = torch.split(train_x, batch_size, dim=0)\n",
    "        train_y_batch = torch.split(train_y, batch_size, dim=0)\n",
    "        \n",
    "        ### Train 데이터 학습 시작 ###\n",
    "        model.train() # 학습모드 On\n",
    "        train_loss = 0\n",
    "        for x_i, y_i in zip(train_x_batch, train_y_batch):\n",
    "            \n",
    "            # 텐서 형태\n",
    "            # |x_i| = (batch_size, 784), |y_i| = (batch_size, 1)\n",
    "            \n",
    "            # 전진(forward) 학습 \n",
    "            y_hat_i = model(x_i)\n",
    "\n",
    "            # 손실값 계산\n",
    "            loss = crit(y_hat_i, y_i.squeeze())\n",
    "\n",
    "            # 미분 수행 (back propagation)\n",
    "            optimizer.zero_grad() # 기존 미분값이 있다면 초기화\n",
    "            loss.backward()\n",
    "        \n",
    "            # Stochastic Gradient Descent 수행\n",
    "            optimizer.step()\n",
    "            \n",
    "            # Total Loss 업데이트\n",
    "            train_loss += float(loss) # 메모리 누수 방지(computation graph 없애기)\n",
    "        \n",
    "        # Total train loss -> average train loss\n",
    "        train_loss /= len(train_x_batch)\n",
    "        \n",
    "        ### 최종 Train Loss 계산 -> Train 종료 ###\n",
    "        \n",
    "        ### Validation 시작 ###\n",
    "        model.eval() # 학습모드 off\n",
    "        with torch.no_grad():\n",
    "            # valid 데이터셋을 미니배치로 분할\n",
    "            valid_x_batch = valid_x.split(batch_size, dim=0)\n",
    "            valid_y_batch = valid_y.split(batch_size, dim=0)\n",
    "            \n",
    "            valid_loss = 0\n",
    "            \n",
    "            for x_i, y_i in zip(valid_x_batch, valid_y_batch):\n",
    "                y_hat_i = model(x_i)\n",
    "                loss = crit(y_hat_i, y_i.squeeze())\n",
    "                valid_loss += float(loss)\n",
    "\n",
    "        ### 최종 Valid Loss 계산 -> Validation 종료 ###\n",
    "        valid_loss = valid_loss / len(valid_x_batch)\n",
    "        \n",
    "        # Train, valid loss를 저장\n",
    "        train_history += [train_loss]\n",
    "        valid_history += [valid_loss]\n",
    "        \n",
    "        # 1회 epoch 종료 후 Loss 출력\n",
    "        if (epoch_index + 1) % print_interval == 0:\n",
    "            print(\n",
    "                'Epoch({0:2d}/{1:2d}): train_loss={2:8.6f}  valid_loss={3:8.6f}  lowest_loss={4:8.6f}'.format(\n",
    "                    epoch_index+1, \n",
    "                    n_epochs,\n",
    "                    train_loss,\n",
    "                    valid_loss,\n",
    "                    lowest_loss,               \n",
    "                )\n",
    "            )\n",
    "\n",
    "        # Valid Loss를 확인하여 최소 Loss일 경우 모델을 저장\n",
    "        if valid_loss <= lowest_loss:\n",
    "            lowest_loss = valid_loss\n",
    "            lowest_epoch = epoch_index + 1\n",
    "            best_model = deepcopy(model.state_dict())\n",
    "            torch.save(\n",
    "                {\n",
    "                    #'model_state_dict': best_model.state_dict(),\n",
    "                    'model': best_model,\n",
    "                    'n_epochs': n_epochs,\n",
    "                    'batch_size': batch_size,\n",
    "                    'lr': lr,\n",
    "                    'optimizer': 'SGD',\n",
    "                }, \n",
    "                model_fn\n",
    "            )\n",
    "        \n",
    "        # 지정된 횟수(early_stop) 동안 학습 진전이 없을 경우 조기 종료\n",
    "        else:\n",
    "            if early_stop > 0 and lowest_epoch + early_stop < epoch_index + 1:\n",
    "                print(\"There is no improvement during last %d epochs.\" % early_stop)\n",
    "                break\n",
    "\n",
    "    print(\"The best validation loss from epoch %d: %.4e\" % (lowest_epoch + 1, lowest_loss))\n",
    "        \n",
    "    return train_history, valid_history"
   ]
  },
  {
   "cell_type": "code",
   "execution_count": 11,
   "metadata": {},
   "outputs": [],
   "source": [
    "def visualize_loss_history(train_loss_history, valid_loss_history):\n",
    "    \n",
    "    from matplotlib import font_manager, rc\n",
    "    import matplotlib.pyplot as plt\n",
    "    \n",
    "    #한글 폰트 안깨지게 설정\n",
    "    plt.rcParams['axes.unicode_minus'] = False\n",
    "    \n",
    "    # 글꼴(font) 설정\n",
    "    SMALL_SIZE = 25\n",
    "    MEDIUM_SIZE = 30\n",
    "    BIGGER_SIZE = 35 \n",
    "    plt.rc('font', size=SMALL_SIZE) # 기본 글자 크기\n",
    "    plt.rc('axes', titlesize=SMALL_SIZE) # sub 그림 제목 글자 크기\n",
    "    plt.rc('axes', labelsize=MEDIUM_SIZE) # x, y축 글자크기\n",
    "    plt.rc('xtick', labelsize=SMALL_SIZE) # x축 눈금 크기\n",
    "    plt.rc('ytick', labelsize=SMALL_SIZE) # y축 눈금 크기\n",
    "    plt.rc('legend', fontsize=SMALL_SIZE) # 범례 글자 크기\n",
    "    plt.rc('figure', titlesize=BIGGER_SIZE) # 그림 제목 크기\n",
    "\n",
    "    # 그리기(Plotting)\n",
    "    plot_from = 0\n",
    "    plt.figure(figsize=(20, 10))\n",
    "    plt.grid(True)\n",
    "    plt.title(\"Train / Valid Loss History\")\n",
    "    plt.ylabel('Loss')\n",
    "    plt.xlabel('Epochs')\n",
    "    plt.plot(\n",
    "        range(plot_from, len(train_history)), \n",
    "        train_history[plot_from:],\n",
    "        label='Train Histroy',\n",
    "    )\n",
    "    plt.plot(\n",
    "        range(plot_from, len(valid_history)), \n",
    "        valid_history[plot_from:],\n",
    "        label='Valid History',\n",
    "    )\n",
    "    \n",
    "    plt.legend()\n",
    "    plt.yscale('log')\n",
    "    plt.show()"
   ]
  },
  {
   "cell_type": "code",
   "execution_count": 12,
   "metadata": {},
   "outputs": [
    {
     "name": "stdout",
     "output_type": "stream",
     "text": [
      "torch.Size([48000, 784]) torch.Size([48000])\n",
      "torch.Size([12000, 784]) torch.Size([12000])\n",
      "torch.Size([10000, 784]) torch.Size([10000])\n",
      "MyModel(\n",
      "  (linear1): Linear(in_features=784, out_features=500, bias=True)\n",
      "  (linear2): Linear(in_features=500, out_features=400, bias=True)\n",
      "  (linear3): Linear(in_features=400, out_features=300, bias=True)\n",
      "  (linear4): Linear(in_features=300, out_features=200, bias=True)\n",
      "  (linear5): Linear(in_features=200, out_features=100, bias=True)\n",
      "  (linear6): Linear(in_features=100, out_features=50, bias=True)\n",
      "  (linear7): Linear(in_features=50, out_features=10, bias=True)\n",
      "  (act): LeakyReLU(negative_slope=0.01)\n",
      "  (logsoftmax): LogSoftmax(dim=-1)\n",
      ")\n",
      "Epoch(10/1000): train_loss=0.025465  valid_loss=0.106148  lowest_loss=0.094616\n",
      "Epoch(20/1000): train_loss=0.014033  valid_loss=0.126687  lowest_loss=0.090402\n",
      "Epoch(30/1000): train_loss=0.010049  valid_loss=0.113605  lowest_loss=0.090402\n",
      "Epoch(40/1000): train_loss=0.009961  valid_loss=0.119262  lowest_loss=0.090402\n",
      "Epoch(50/1000): train_loss=0.003578  valid_loss=0.148246  lowest_loss=0.090402\n",
      "Epoch(60/1000): train_loss=0.005375  valid_loss=0.161967  lowest_loss=0.090402\n",
      "There is no improvement during last 50 epochs.\n",
      "The best validation loss from epoch 12: 9.0402e-02\n"
     ]
    }
   ],
   "source": [
    "# 하이퍼 파라미터 설정\n",
    "params = {\n",
    "    'batch_size':  128,\n",
    "    'n_epochs': 1000, \n",
    "    'print_interval': 10, \n",
    "    'lr': 1e-4, \n",
    "    'early_stop': 50,\n",
    "    'model_fn': 'model_classification.pth', \n",
    "}\n",
    "\n",
    "# Train, Valid, Test 데이터셋 분할\n",
    "train_valid_ratio = [0.8, 0.2]\n",
    "x, y = make_train_valid_test(train_valid_ratio, train_data, test_data)\n",
    "\n",
    "# 모델 객체 생성 -> MyModel 클래스를 이용하여 빈 모델 생성\n",
    "input_size =x[0].size(-1)\n",
    "output_size = int(max(y[0])) + 1\n",
    "model = MyModel(input_size, output_size)\n",
    "\n",
    "# 손실함수 생성\n",
    "loss_func=nn.NLLLoss()\n",
    "\n",
    "# train 함수 호출을 통해 학습 수행\n",
    "train_history, valid_history = train(model, x, y, loss_func, **params)"
   ]
  },
  {
   "cell_type": "code",
   "execution_count": 14,
   "metadata": {},
   "outputs": [
    {
     "data": {
      "image/png": "[encoded data removed]",
      "text/plain": [
       "<Figure size 2000x1000 with 1 Axes>"
      ]
     },
     "metadata": {},
     "output_type": "display_data"
    }
   ],
   "source": [
    "visualize_loss_history(train_history, valid_history)"
   ]
  },
  {
   "cell_type": "code",
   "execution_count": null,
   "metadata": {},
   "outputs": [],
   "source": [
    "#375쪽부터"
   ]
  }
 ],
 "metadata": {
  "kernelspec": {
   "display_name": "base",
   "language": "python",
   "name": "python3"
  },
  "language_info": {
   "codemirror_mode": {
    "name": "ipython",
    "version": 3
   },
   "file_extension": ".py",
   "mimetype": "text/x-python",
   "name": "python",
   "nbconvert_exporter": "python",
   "pygments_lexer": "ipython3",
   "version": "3.9.13"
  },
  "orig_nbformat": 4,
  "vscode": {
   "interpreter": {
    "hash": "449cd866cea14defc9854d45f99515e1fe2a16247e7db0e37b65bfc5c2f2b970"
   }
  }
 },
 "nbformat": 4,
 "nbformat_minor": 2
}
